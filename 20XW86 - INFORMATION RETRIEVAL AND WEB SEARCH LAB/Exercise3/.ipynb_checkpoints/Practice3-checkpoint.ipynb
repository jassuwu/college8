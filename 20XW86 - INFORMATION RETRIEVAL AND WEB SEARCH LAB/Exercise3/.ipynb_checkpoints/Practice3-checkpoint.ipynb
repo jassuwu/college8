{
 "cells": [
  {
   "cell_type": "code",
   "execution_count": 1,
   "id": "735f32c8",
   "metadata": {},
   "outputs": [],
   "source": [
    "import numpy as np\n",
    "import pandas as pd\n",
    "import re"
   ]
  },
  {
   "cell_type": "code",
   "execution_count": 7,
   "id": "92521e26",
   "metadata": {},
   "outputs": [
    {
     "ename": "NameError",
     "evalue": "name 'r' is not defined",
     "output_type": "error",
     "traceback": [
      "\u001b[1;31m---------------------------------------------------------------------------\u001b[0m",
      "\u001b[1;31mNameError\u001b[0m                                 Traceback (most recent call last)",
      "Cell \u001b[1;32mIn[7], line 25\u001b[0m\n\u001b[0;32m     23\u001b[0m \u001b[38;5;28;01mwith\u001b[39;00m \u001b[38;5;28mopen\u001b[39m(\u001b[38;5;124m'\u001b[39m\u001b[38;5;124mTIME.REL\u001b[39m\u001b[38;5;124m'\u001b[39m, \u001b[38;5;124m'\u001b[39m\u001b[38;5;124mr\u001b[39m\u001b[38;5;124m'\u001b[39m) \u001b[38;5;28;01mas\u001b[39;00m f:\n\u001b[0;32m     24\u001b[0m     text \u001b[38;5;241m=\u001b[39m f\u001b[38;5;241m.\u001b[39mread()\n\u001b[1;32m---> 25\u001b[0m result \u001b[38;5;241m=\u001b[39m re\u001b[38;5;241m.\u001b[39mfindall(r)\n",
      "\u001b[1;31mNameError\u001b[0m: name 'r' is not defined"
     ]
    }
   ],
   "source": [
    "## Parsing\n",
    "\n",
    "# Documents\n",
    "with open('TIME.ALL', 'r') as f:\n",
    "    text = f.read()\n",
    "result = re.findall(r\"\\*TEXT\\s+\\d{3}\\s+\\d{2}/\\d{2}(/|\\s)\\d{2}\\s+PAGE\\s+\\d{3}\\n\\n(.+?)(?=\\*TEXT|$)\", text, re.DOTALL)\n",
    "docDB = pd.DataFrame(result)\n",
    "docDB.drop(0, axis=1, inplace=True)\n",
    "\n",
    "# Queries\n",
    "with open('TIME.QUE', 'r') as f:\n",
    "    text = f.read()\n",
    "result = re.findall(r'FIND\\s+\\d+\\s+(.*)', text)\n",
    "queryDF = pd.DataFrame(result)\n",
    "\n",
    "# Stopwords\n",
    "with open('TIME.STP','r') as f:\n",
    "    text = f.read()\n",
    "result = re.findall(r\"^[A-Z]+$\", text, re.MULTILINE)\n",
    "swDF = pd.DataFrame(result)\n",
    "\n",
    "# Relevant docs\n",
    "with open('TIME.REL', 'r') as f:\n",
    "    text = f.read()\n",
    "result = re.findall(r\"\", text, re.MULTILINE)\n",
    "rdDF = pd.DataFrame(result)\n",
    "print(numbers)\n"
   ]
  },
  {
   "cell_type": "code",
   "execution_count": 8,
   "id": "75735591",
   "metadata": {},
   "outputs": [
    {
     "name": "stdout",
     "output_type": "stream",
     "text": [
      "[[1, 268, 288, 304, 308, 323, 326, 334, 2, 326, 334, 3, 326, 350, 364, 385, 4, 370, 378, 385, 409, 421, 5, 359, 370, 385, 397, 421, 6, 257, 268, 288, 304, 308, 323, 324, 326, 334, 7, 386, 408, 8, 339, 358, 9, 61, 155, 156, 242, 269, 315, 339, 358, 10, 61, 156, 242, 269, 339, 358, 11, 195, 198]]\n"
     ]
    }
   ],
   "source": [
    "text = \"1  268 288 304 308 323 326 334\\n\\n2  326 334\\n\\n3  326 350 364 385\\n\\n4  370 378 385 409 421\\n\\n5  359 370 385 397 421\\n\\n6  257 268 288 304 308 323 324 326 334\\n\\n7  386 408\\n\\n8  339 358\\n\\n9   61 155 156 242 269 315 339 358\\n\\n10  61 156 242 269 339 358\\n\\n11 195 198\"\n",
    "\n",
    "# Define the regex pattern to match the index and numbers\n",
    "pattern = r\"(\\d+)\\s+([\\d\\s]+)\"\n",
    "\n",
    "# Find all the matches for the pattern\n",
    "matches = re.findall(pattern, text)\n",
    "\n",
    "# Extract the index and numbers from the matches\n",
    "result = [[int(index)] + list(map(int, numbers.split())) for index, numbers in matches]\n",
    "\n",
    "# Print the result\n",
    "print(result)\n"
   ]
  },
  {
   "cell_type": "code",
   "execution_count": null,
   "id": "e433d410",
   "metadata": {},
   "outputs": [],
   "source": []
  }
 ],
 "metadata": {
  "kernelspec": {
   "display_name": "Python 3 (ipykernel)",
   "language": "python",
   "name": "python3"
  },
  "language_info": {
   "codemirror_mode": {
    "name": "ipython",
    "version": 3
   },
   "file_extension": ".py",
   "mimetype": "text/x-python",
   "name": "python",
   "nbconvert_exporter": "python",
   "pygments_lexer": "ipython3",
   "version": "3.11.5"
  }
 },
 "nbformat": 4,
 "nbformat_minor": 5
}
