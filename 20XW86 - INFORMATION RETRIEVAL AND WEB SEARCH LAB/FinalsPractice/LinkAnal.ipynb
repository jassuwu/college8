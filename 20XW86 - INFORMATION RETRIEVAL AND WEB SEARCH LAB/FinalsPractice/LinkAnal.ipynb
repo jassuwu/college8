{
 "cells": [
  {
   "cell_type": "code",
   "execution_count": 5,
   "metadata": {},
   "outputs": [],
   "source": [
    "import numpy as np\n",
    "from collections import defaultdict"
   ]
  },
  {
   "cell_type": "code",
   "execution_count": 6,
   "metadata": {},
   "outputs": [],
   "source": [
    "def convert_to_links_dict(edge_list):\n",
    "    links = defaultdict(list)\n",
    "    for src, dest in edge_list:\n",
    "        links[src].append(dest)\n",
    "        links[dest]\n",
    "    return links"
   ]
  },
  {
   "cell_type": "code",
   "execution_count": 7,
   "metadata": {},
   "outputs": [],
   "source": [
    "def pagerank(links, alpha=0.85, max_iter=100):\n",
    "    n = len(links)\n",
    "    S = np.zeros((n, n))\n",
    "\n",
    "    for i, src in enumerate(links):\n",
    "        if len(links[src]) == 0:\n",
    "            S[i] = np.ones(n) / n\n",
    "        else:\n",
    "            for dest in links[src]:\n",
    "                j = list(links.keys()).index(dest)\n",
    "                S[i, j] = 1 / len(links[src])\n",
    "    \n",
    "    pr = np.random.dirichlet(np.ones(n), 1).T\n",
    "    G = alpha * S.T + (1 - alpha) / n\n",
    "\n",
    "    for _ in range(max_iter):\n",
    "        pr = G @ pr\n",
    "    \n",
    "    pagerank_scores = {node:pr[i, 0] for i, node in enumerate(links)}\n",
    "    return sorted(pagerank_scores.items(), key=lambda x: x[1], reverse=True)"
   ]
  },
  {
   "cell_type": "code",
   "execution_count": 8,
   "metadata": {},
   "outputs": [],
   "source": [
    "def hits(links, max_iter=100):\n",
    "    n = len(links)\n",
    "    S = np.zeros((n, n))\n",
    "\n",
    "    for i, src in enumerate(links):\n",
    "        for dest in links[src]:\n",
    "            j = list(links.keys()).index(dest)\n",
    "            S[i, j] = 1\n",
    "\n",
    "    hubs = np.ones((n, 1)) / n\n",
    "    auth = np.ones((n, 1)) / n\n",
    "\n",
    "    for _ in range(max_iter):\n",
    "        last_hubs = hubs\n",
    "        last_auth = auth\n",
    "\n",
    "        hubs = S @ last_auth\n",
    "        auth = S.T @ last_hubs\n",
    "\n",
    "    hubs /= np.sum(hubs)\n",
    "    auth /= np.sum(auth)\n",
    "\n",
    "    hubs_scores = {node:hubs[i, 0] for i, node in enumerate(links)}\n",
    "    auth_scores = {node:auth[i, 0] for i, node in enumerate(links)}\n",
    "    return sorted(hubs_scores.items(), key=lambda x: x[1], reverse=True), sorted(auth_scores.items(), key=lambda x: x[1], reverse=True)"
   ]
  },
  {
   "cell_type": "code",
   "execution_count": 9,
   "metadata": {},
   "outputs": [
    {
     "name": "stdout",
     "output_type": "stream",
     "text": [
      "Node A has PageRank: 0.3078534031413612\n",
      "Node C has PageRank: 0.2646222887060583\n",
      "Node B has PageRank: 0.21376215407629018\n",
      "Node D has PageRank: 0.21376215407629018\n",
      "\n",
      "Node A has HITS hub: 0.9999999999999982\n",
      "Node B has HITS hub: 8.881784197001237e-16\n",
      "Node C has HITS hub: 8.881784197001237e-16\n",
      "Node D has HITS hub: 0.0\n",
      "\n",
      "Node B has HITS authority: 0.49999999999999956\n",
      "Node D has HITS authority: 0.49999999999999956\n",
      "Node A has HITS authority: 4.440892098500622e-16\n",
      "Node C has HITS authority: 4.440892098500622e-16\n"
     ]
    }
   ],
   "source": [
    "edge_list = [('A', 'B'), ('B', 'C'), ('C', 'A'), ('A', 'D')]\n",
    "\n",
    "# Convert the edge list to a links dictionary\n",
    "# links = {\n",
    "#     'A': ['B', 'D'],\n",
    "#     'B': ['C'],\n",
    "#     'C': ['A'],\n",
    "#     'D': []\n",
    "# }\n",
    "\n",
    "links = convert_to_links_dict(edge_list)\n",
    "\n",
    "pr_scores = pagerank(links)\n",
    "hub_scores, auth_scores = hits(links)\n",
    "\n",
    "for node, rank in pr_scores:\n",
    "    print(f\"Node {node} has PageRank: {rank}\")\n",
    "print()\n",
    "for node, hub in hub_scores:\n",
    "    print(f\"Node {node} has HITS hub: {hub}\")\n",
    "print()\n",
    "for node, authority in auth_scores:\n",
    "    print(f\"Node {node} has HITS authority: {authority}\")"
   ]
  }
 ],
 "metadata": {
  "kernelspec": {
   "display_name": "Python 3",
   "language": "python",
   "name": "python3"
  },
  "language_info": {
   "codemirror_mode": {
    "name": "ipython",
    "version": 3
   },
   "file_extension": ".py",
   "mimetype": "text/x-python",
   "name": "python",
   "nbconvert_exporter": "python",
   "pygments_lexer": "ipython3",
   "version": "3.10.12"
  }
 },
 "nbformat": 4,
 "nbformat_minor": 2
}
