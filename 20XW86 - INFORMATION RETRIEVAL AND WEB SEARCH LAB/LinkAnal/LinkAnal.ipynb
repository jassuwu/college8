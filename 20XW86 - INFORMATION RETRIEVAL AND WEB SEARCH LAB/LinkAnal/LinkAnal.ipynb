{
 "cells": [
  {
   "cell_type": "code",
   "execution_count": 1,
   "metadata": {},
   "outputs": [],
   "source": [
    "import numpy as np\n",
    "from collections import defaultdict"
   ]
  },
  {
   "cell_type": "code",
   "execution_count": 2,
   "metadata": {},
   "outputs": [],
   "source": [
    "def convert_to_links_dict(edge_list):\n",
    "    links = defaultdict(list)\n",
    "    for src, dest in edge_list:\n",
    "        links[src].append(dest)\n",
    "        # Access 'dest' to ensure it's in the dictionary. \n",
    "        # This handles dangling nodes (nodes with no outgoing links).\n",
    "        # It adds them to the dictionary with an empty list as its value.\n",
    "        links[dest]\n",
    "    return links"
   ]
  },
  {
   "cell_type": "code",
   "execution_count": 3,
   "metadata": {},
   "outputs": [],
   "source": [
    "def pagerank(links, max_iter=100, alpha=0.85):\n",
    "    n = len(links)\n",
    "    S = np.zeros((n, n))\n",
    "\n",
    "    for i, src in enumerate(links):\n",
    "        if len(links[src]) == 0:\n",
    "            S[i] = np.ones(n) / n\n",
    "        else:\n",
    "            for dest in links[src]:\n",
    "                j = list(links.keys()).index(dest)\n",
    "                S[i, j] = 1 / len(links[src])\n",
    "\n",
    "    pr = np.random.dirichlet(np.ones(n),size=1).T\n",
    "    G = (alpha * S.T + (1 - alpha) / n)\n",
    "\n",
    "    for _ in range(max_iter):\n",
    "        pr = G @ pr\n",
    "\n",
    "    pagerank_scores = {node: pr[i, 0] for i, node in enumerate(links)}\n",
    "    return sorted(pagerank_scores.items(), key=lambda x: x[1], reverse=True)"
   ]
  },
  {
   "cell_type": "code",
   "execution_count": 4,
   "metadata": {},
   "outputs": [],
   "source": [
    "def hits(links, max_iter=100):\n",
    "    n = len(links)\n",
    "    S = np.zeros((n, n))\n",
    "\n",
    "    for i, src in enumerate(links):\n",
    "        for dest in links[src]:\n",
    "            j = list(links.keys()).index(dest)\n",
    "            S[i, j] = 1\n",
    "\n",
    "    hubs = np.ones((n, 1)) / n\n",
    "    auth = np.ones((n, 1)) / n\n",
    "\n",
    "    for _ in range(max_iter):\n",
    "        auth = S.T @ hubs\n",
    "        hubs = S @ auth\n",
    "\n",
    "    auth = auth / np.sum(auth)\n",
    "    hubs = hubs / np.sum(hubs)\n",
    "\n",
    "    hub_scores = {node: hubs[i, 0] for i, node in enumerate(links)}\n",
    "    auth_scores = {node: auth[i, 0] for i, node in enumerate(links)}\n",
    "    return sorted(hub_scores.items(), key=lambda x: x[1], reverse=True), sorted(auth_scores.items(), key=lambda x: x[1], reverse=True)"
   ]
  },
  {
   "cell_type": "code",
   "execution_count": 5,
   "metadata": {},
   "outputs": [
    {
     "name": "stdout",
     "output_type": "stream",
     "text": [
      "Node A has PageRank: 0.3078534031413612\n",
      "Node C has PageRank: 0.2646222887060584\n",
      "Node B has PageRank: 0.21376215407629023\n",
      "Node D has PageRank: 0.21376215407629023\n",
      "\n",
      "Node A has HITS hub: 1.0\n",
      "Node B has HITS hub: 7.888609052210118e-31\n",
      "Node C has HITS hub: 7.888609052210118e-31\n",
      "Node D has HITS hub: 0.0\n",
      "\n",
      "Node B has HITS authority: 0.5\n",
      "Node D has HITS authority: 0.5\n",
      "Node A has HITS authority: 7.888609052210118e-31\n",
      "Node C has HITS authority: 7.888609052210118e-31\n"
     ]
    }
   ],
   "source": [
    "edge_list = [('A', 'B'), ('B', 'C'), ('C', 'A'), ('A', 'D')]\n",
    "\n",
    "# Convert the edge list to a links dictionary\n",
    "# links = {\n",
    "#     'A': ['B', 'D'],\n",
    "#     'B': ['C'],\n",
    "#     'C': ['A'],\n",
    "#     'D': []\n",
    "# }\n",
    "\n",
    "links = convert_to_links_dict(edge_list)\n",
    "\n",
    "pr_scores = pagerank(links)\n",
    "hub_scores, auth_scores = hits(links)\n",
    "\n",
    "for node, rank in pr_scores:\n",
    "    print(f\"Node {node} has PageRank: {rank}\")\n",
    "print()\n",
    "for node, hub in hub_scores:\n",
    "    print(f\"Node {node} has HITS hub: {hub}\")\n",
    "print()\n",
    "for node, authority in auth_scores:\n",
    "    print(f\"Node {node} has HITS authority: {authority}\")\n"
   ]
  }
 ],
 "metadata": {
  "kernelspec": {
   "display_name": "Python 3",
   "language": "python",
   "name": "python3"
  },
  "language_info": {
   "codemirror_mode": {
    "name": "ipython",
    "version": 3
   },
   "file_extension": ".py",
   "mimetype": "text/x-python",
   "name": "python",
   "nbconvert_exporter": "python",
   "pygments_lexer": "ipython3",
   "version": "3.10.12"
  }
 },
 "nbformat": 4,
 "nbformat_minor": 2
}
