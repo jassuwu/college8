{
 "cells": [
  {
   "cell_type": "code",
   "execution_count": 1,
   "id": "16c591e2",
   "metadata": {},
   "outputs": [],
   "source": [
    "from bs4 import BeautifulSoup # Web scraper\n",
    "import requests # Request handler\n",
    "import lxml # HTML and XML parser"
   ]
  },
  {
   "cell_type": "code",
   "execution_count": 2,
   "id": "a8c9c3ef",
   "metadata": {},
   "outputs": [],
   "source": [
    "res = requests.get('https://sigir.org/sigir2023/program/best-paper-award')\n",
    "soup = BeautifulSoup(res.text)"
   ]
  },
  {
   "cell_type": "code",
   "execution_count": 3,
   "id": "d97a6a5b",
   "metadata": {},
   "outputs": [
    {
     "name": "stdout",
     "output_type": "stream",
     "text": [
      "Best Paper Awards – SIGIR | Taipei | Taiwan | 2023\n"
     ]
    }
   ],
   "source": [
    "print(soup.title.text)"
   ]
  },
  {
   "cell_type": "code",
   "execution_count": 4,
   "id": "700d14ac",
   "metadata": {},
   "outputs": [
    {
     "name": "stdout",
     "output_type": "stream",
     "text": [
      "{'Best Paper Award': {'The Information Retrieval Experiment Platform': 'Maik FrÃ¶be, Jan Heinrich Reimer, Sean MacAvaney, Niklas Deckers, Simon Reich, Janek Bevendorff, Benno Stein, Matthias Hagen, Martin Potthast'}, 'Best Student Paper Award': {'A Symmetric Dual Encoding Dense Retrieval Framework for Knowledge-Intensive Visual Question Answering': 'Alireza Salemi, Juan Altmayer Pizzorno, Hamed Zamani'}, 'Best Paper Honorable Mention': {'Aligning Distillation For Cold-start Item Recommendation': 'Feiran Huang, Zefan Wang, Xiao Huang, Yufeng Qian, Zhetao Li, Hao Chen', 'End-to-End Multimodal Fact-Checking and Explanation Generation: A Challenging Dataset and Models': 'Barry Menglong Yao, Aditya Shah, Lichao Sun, Jin-Hee Cho, Lifu Huang', 'Alleviating Matthew Effect of Offline Reinforcement Learning in Interactive Recommendation': 'Chongming Gao, Kexin Huang, Jiawei Chen, Yuan Zhang, Biao Li, Peng Jiang, Shiqi Wang, Zhong Zhang, Xiangnan He', 'A Geometric Framework for Query Performance Prediction in Conversational Search': 'Guglielmo Faggioli, Nicola Ferro, Cristina Ioana Muntean, Raffaele Perego, Nicola Tonellotto'}, 'Best Short Paper Award': {'SparseEmbed: Learning Sparse Lexical Representations with Contextual Embeddings for Retrieval': 'Weize Kong, Jeffrey M. Dudek, Cheng Li, Mingyang Zhang, Michael Bendersky'}, 'Best Short Paper Honorable Mention': {'Graph Collaborative Signals Denoising and Augmentation for Recommendation': 'Ziwei Fan, Ke Xu, Zhang Dong, Hao Peng, Jiawei Zhang, Philip S. Yu', 'Text-to-Motion Retrieval: Towards Joint Understanding of Human Motion Data and Natural Language': 'Nicola Messina, Jan Sedmidubsky, Fabrizio Falchi, TomÃ¡s Rebok'}}\n"
     ]
    }
   ],
   "source": [
    "sectionSoup = soup.find('section').div\n",
    "awardsMap = {}\n",
    "currentAward = ''\n",
    "\n",
    "for child in sectionSoup.children:\n",
    "    if child.name == 'h3':\n",
    "        awardTitle = child.strong.text\n",
    "        currentAward = awardTitle\n",
    "        awardsMap[awardTitle] = {}\n",
    "    elif child.name == 'ul':\n",
    "        awardsMap[currentAward][child.li.a.text] = child.li.br.next_sibling.lstrip()\n",
    "        \n",
    "print(awardsMap)"
   ]
  },
  {
   "cell_type": "code",
   "execution_count": 5,
   "id": "6beb24e5",
   "metadata": {},
   "outputs": [
    {
     "name": "stdout",
     "output_type": "stream",
     "text": [
      "{\n",
      "  \"Best Paper Award\": {\n",
      "    \"The Information Retrieval Experiment Platform\": \"Maik Fr\\u00c3\\u00b6be, Jan Heinrich Reimer, Sean MacAvaney, Niklas Deckers, Simon Reich, Janek Bevendorff, Benno Stein, Matthias Hagen, Martin Potthast\"\n",
      "  },\n",
      "  \"Best Student Paper Award\": {\n",
      "    \"A Symmetric Dual Encoding Dense Retrieval Framework for Knowledge-Intensive Visual Question Answering\": \"Alireza Salemi, Juan Altmayer Pizzorno, Hamed Zamani\"\n",
      "  },\n",
      "  \"Best Paper Honorable Mention\": {\n",
      "    \"Aligning Distillation For Cold-start Item Recommendation\": \"Feiran Huang, Zefan Wang, Xiao Huang, Yufeng Qian, Zhetao Li, Hao Chen\",\n",
      "    \"End-to-End Multimodal Fact-Checking and Explanation Generation: A Challenging Dataset and Models\": \"Barry Menglong Yao, Aditya Shah, Lichao Sun, Jin-Hee Cho, Lifu Huang\",\n",
      "    \"Alleviating Matthew Effect of Offline Reinforcement Learning in Interactive Recommendation\": \"Chongming Gao, Kexin Huang, Jiawei Chen, Yuan Zhang, Biao Li, Peng Jiang, Shiqi Wang, Zhong Zhang, Xiangnan He\",\n",
      "    \"A Geometric Framework for Query Performance Prediction in Conversational Search\": \"Guglielmo Faggioli, Nicola Ferro, Cristina Ioana Muntean, Raffaele Perego, Nicola Tonellotto\"\n",
      "  },\n",
      "  \"Best Short Paper Award\": {\n",
      "    \"SparseEmbed: Learning Sparse Lexical Representations with Contextual Embeddings for Retrieval\": \"Weize Kong, Jeffrey M. Dudek, Cheng Li, Mingyang Zhang, Michael Bendersky\"\n",
      "  },\n",
      "  \"Best Short Paper Honorable Mention\": {\n",
      "    \"Graph Collaborative Signals Denoising and Augmentation for Recommendation\": \"Ziwei Fan, Ke Xu, Zhang Dong, Hao Peng, Jiawei Zhang, Philip S. Yu\",\n",
      "    \"Text-to-Motion Retrieval: Towards Joint Understanding of Human Motion Data and Natural Language\": \"Nicola Messina, Jan Sedmidubsky, Fabrizio Falchi, Tom\\u00c3\\u00a1s Rebok\"\n",
      "  }\n",
      "}\n"
     ]
    }
   ],
   "source": [
    "import json\n",
    "print(json.dumps(awardsMap, indent=2))"
   ]
  },
  {
   "cell_type": "code",
   "execution_count": 6,
   "id": "59379d51",
   "metadata": {},
   "outputs": [
    {
     "data": {
      "text/html": [
       "<div>\n",
       "<style scoped>\n",
       "    .dataframe tbody tr th:only-of-type {\n",
       "        vertical-align: middle;\n",
       "    }\n",
       "\n",
       "    .dataframe tbody tr th {\n",
       "        vertical-align: top;\n",
       "    }\n",
       "\n",
       "    .dataframe thead th {\n",
       "        text-align: right;\n",
       "    }\n",
       "</style>\n",
       "<table border=\"1\" class=\"dataframe\">\n",
       "  <thead>\n",
       "    <tr style=\"text-align: right;\">\n",
       "      <th></th>\n",
       "      <th>Award</th>\n",
       "      <th>Paper</th>\n",
       "      <th>Authors</th>\n",
       "    </tr>\n",
       "  </thead>\n",
       "  <tbody>\n",
       "    <tr>\n",
       "      <th>0</th>\n",
       "      <td>Best Paper Award</td>\n",
       "      <td>The Information Retrieval Experiment Platform</td>\n",
       "      <td>Maik FrÃ¶be, Jan Heinrich Reimer, Sean MacAvan...</td>\n",
       "    </tr>\n",
       "    <tr>\n",
       "      <th>1</th>\n",
       "      <td>Best Student Paper Award</td>\n",
       "      <td>A Symmetric Dual Encoding Dense Retrieval Fram...</td>\n",
       "      <td>Alireza Salemi, Juan Altmayer Pizzorno, Hamed ...</td>\n",
       "    </tr>\n",
       "    <tr>\n",
       "      <th>2</th>\n",
       "      <td>Best Paper Honorable Mention</td>\n",
       "      <td>Aligning Distillation For Cold-start Item Reco...</td>\n",
       "      <td>Feiran Huang, Zefan Wang, Xiao Huang, Yufeng Q...</td>\n",
       "    </tr>\n",
       "    <tr>\n",
       "      <th>3</th>\n",
       "      <td>Best Paper Honorable Mention</td>\n",
       "      <td>End-to-End Multimodal Fact-Checking and Explan...</td>\n",
       "      <td>Barry Menglong Yao, Aditya Shah, Lichao Sun, J...</td>\n",
       "    </tr>\n",
       "    <tr>\n",
       "      <th>4</th>\n",
       "      <td>Best Paper Honorable Mention</td>\n",
       "      <td>Alleviating Matthew Effect of Offline Reinforc...</td>\n",
       "      <td>Chongming Gao, Kexin Huang, Jiawei Chen, Yuan ...</td>\n",
       "    </tr>\n",
       "    <tr>\n",
       "      <th>5</th>\n",
       "      <td>Best Paper Honorable Mention</td>\n",
       "      <td>A Geometric Framework for Query Performance Pr...</td>\n",
       "      <td>Guglielmo Faggioli, Nicola Ferro, Cristina Ioa...</td>\n",
       "    </tr>\n",
       "    <tr>\n",
       "      <th>6</th>\n",
       "      <td>Best Short Paper Award</td>\n",
       "      <td>SparseEmbed: Learning Sparse Lexical Represent...</td>\n",
       "      <td>Weize Kong, Jeffrey M. Dudek, Cheng Li, Mingya...</td>\n",
       "    </tr>\n",
       "    <tr>\n",
       "      <th>7</th>\n",
       "      <td>Best Short Paper Honorable Mention</td>\n",
       "      <td>Graph Collaborative Signals Denoising and Augm...</td>\n",
       "      <td>Ziwei Fan, Ke Xu, Zhang Dong, Hao Peng, Jiawei...</td>\n",
       "    </tr>\n",
       "    <tr>\n",
       "      <th>8</th>\n",
       "      <td>Best Short Paper Honorable Mention</td>\n",
       "      <td>Text-to-Motion Retrieval: Towards Joint Unders...</td>\n",
       "      <td>Nicola Messina, Jan Sedmidubsky, Fabrizio Falc...</td>\n",
       "    </tr>\n",
       "  </tbody>\n",
       "</table>\n",
       "</div>"
      ],
      "text/plain": [
       "                                Award  \\\n",
       "0                    Best Paper Award   \n",
       "1            Best Student Paper Award   \n",
       "2        Best Paper Honorable Mention   \n",
       "3        Best Paper Honorable Mention   \n",
       "4        Best Paper Honorable Mention   \n",
       "5        Best Paper Honorable Mention   \n",
       "6              Best Short Paper Award   \n",
       "7  Best Short Paper Honorable Mention   \n",
       "8  Best Short Paper Honorable Mention   \n",
       "\n",
       "                                               Paper  \\\n",
       "0      The Information Retrieval Experiment Platform   \n",
       "1  A Symmetric Dual Encoding Dense Retrieval Fram...   \n",
       "2  Aligning Distillation For Cold-start Item Reco...   \n",
       "3  End-to-End Multimodal Fact-Checking and Explan...   \n",
       "4  Alleviating Matthew Effect of Offline Reinforc...   \n",
       "5  A Geometric Framework for Query Performance Pr...   \n",
       "6  SparseEmbed: Learning Sparse Lexical Represent...   \n",
       "7  Graph Collaborative Signals Denoising and Augm...   \n",
       "8  Text-to-Motion Retrieval: Towards Joint Unders...   \n",
       "\n",
       "                                             Authors  \n",
       "0  Maik FrÃ¶be, Jan Heinrich Reimer, Sean MacAvan...  \n",
       "1  Alireza Salemi, Juan Altmayer Pizzorno, Hamed ...  \n",
       "2  Feiran Huang, Zefan Wang, Xiao Huang, Yufeng Q...  \n",
       "3  Barry Menglong Yao, Aditya Shah, Lichao Sun, J...  \n",
       "4  Chongming Gao, Kexin Huang, Jiawei Chen, Yuan ...  \n",
       "5  Guglielmo Faggioli, Nicola Ferro, Cristina Ioa...  \n",
       "6  Weize Kong, Jeffrey M. Dudek, Cheng Li, Mingya...  \n",
       "7  Ziwei Fan, Ke Xu, Zhang Dong, Hao Peng, Jiawei...  \n",
       "8  Nicola Messina, Jan Sedmidubsky, Fabrizio Falc...  "
      ]
     },
     "execution_count": 6,
     "metadata": {},
     "output_type": "execute_result"
    }
   ],
   "source": [
    "import pandas as pd\n",
    "\n",
    "flattenedData = [(award, paper, author) for award, paperAndAuthor in awardsMap.items() for paper, author in paperAndAuthor.items()]\n",
    "\n",
    "pd.DataFrame(flattenedData, columns=[\"Award\", \"Paper\", \"Authors\"])"
   ]
  }
 ],
 "metadata": {
  "kernelspec": {
   "display_name": "Python 3 (ipykernel)",
   "language": "python",
   "name": "python3"
  },
  "language_info": {
   "codemirror_mode": {
    "name": "ipython",
    "version": 3
   },
   "file_extension": ".py",
   "mimetype": "text/x-python",
   "name": "python",
   "nbconvert_exporter": "python",
   "pygments_lexer": "ipython3",
   "version": "3.11.5"
  }
 },
 "nbformat": 4,
 "nbformat_minor": 5
}
