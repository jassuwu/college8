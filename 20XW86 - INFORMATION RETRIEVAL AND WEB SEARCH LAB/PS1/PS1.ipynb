{
 "cells": [
  {
   "cell_type": "code",
   "execution_count": 1,
   "id": "16c591e2",
   "metadata": {},
   "outputs": [],
   "source": [
    "from bs4 import BeautifulSoup # Web scraper\n",
    "import requests # Request handler\n",
    "import lxml # HTML and XML parser"
   ]
  },
  {
   "cell_type": "code",
   "execution_count": 8,
   "id": "a8c9c3ef",
   "metadata": {},
   "outputs": [],
   "source": [
    "res = requests.get('https://sigir.org/sigir2023/program/best-paper-award')\n",
    "soup = BeautifulSoup(res.text)"
   ]
  },
  {
   "cell_type": "code",
   "execution_count": 22,
   "id": "d97a6a5b",
   "metadata": {},
   "outputs": [
    {
     "name": "stdout",
     "output_type": "stream",
     "text": [
      "Best Paper Awards – SIGIR | Taipei | Taiwan | 2023\n"
     ]
    }
   ],
   "source": [
    "print(soup.title.text)"
   ]
  },
  {
   "cell_type": "code",
   "execution_count": 83,
   "id": "700d14ac",
   "metadata": {},
   "outputs": [
    {
     "name": "stdout",
     "output_type": "stream",
     "text": [
      "{'Best Paper Award': {'The Information Retrieval Experiment Platform': 'Maik FrÃ¶be, Jan Heinrich Reimer, Sean MacAvaney, Niklas Deckers, Simon Reich, Janek Bevendorff, Benno Stein, Matthias Hagen, Martin Potthast'}, 'Best Student Paper Award': {'A Symmetric Dual Encoding Dense Retrieval Framework for Knowledge-Intensive Visual Question Answering': 'Alireza Salemi, Juan Altmayer Pizzorno, Hamed Zamani'}, 'Best Paper Honorable Mention': {'Aligning Distillation For Cold-start Item Recommendation': 'Feiran Huang, Zefan Wang, Xiao Huang, Yufeng Qian, Zhetao Li, Hao Chen', 'End-to-End Multimodal Fact-Checking and Explanation Generation: A Challenging Dataset and Models': 'Barry Menglong Yao, Aditya Shah, Lichao Sun, Jin-Hee Cho, Lifu Huang', 'Alleviating Matthew Effect of Offline Reinforcement Learning in Interactive Recommendation': 'Chongming Gao, Kexin Huang, Jiawei Chen, Yuan Zhang, Biao Li, Peng Jiang, Shiqi Wang, Zhong Zhang, Xiangnan He', 'A Geometric Framework for Query Performance Prediction in Conversational Search': 'Guglielmo Faggioli, Nicola Ferro, Cristina Ioana Muntean, Raffaele Perego, Nicola Tonellotto'}, 'Best Short Paper Award': {'SparseEmbed: Learning Sparse Lexical Representations with Contextual Embeddings for Retrieval': 'Weize Kong, Jeffrey M. Dudek, Cheng Li, Mingyang Zhang, Michael Bendersky'}, 'Best Short Paper Honorable Mention': {'Graph Collaborative Signals Denoising and Augmentation for Recommendation': 'Ziwei Fan, Ke Xu, Zhang Dong, Hao Peng, Jiawei Zhang, Philip S. Yu', 'Text-to-Motion Retrieval: Towards Joint Understanding of Human Motion Data and Natural Language': 'Nicola Messina, Jan Sedmidubsky, Fabrizio Falchi, TomÃ¡s Rebok'}}\n"
     ]
    }
   ],
   "source": [
    "sectionSoup = soup.find('section').div\n",
    "awardsMap = {}\n",
    "currentAward = ''\n",
    "\n",
    "for child in sectionSoup.children:\n",
    "    if child.name == 'h3':\n",
    "        awardTitle = child.strong.text\n",
    "        currentAward = awardTitle\n",
    "        awardsMap[awardTitle] = {}\n",
    "    elif child.name == 'ul':\n",
    "        awardsMap[currentAward][child.li.a.text] = child.li.br.next_sibling.lstrip()\n",
    "        \n",
    "print(awardsMap)"
   ]
  },
  {
   "cell_type": "code",
   "execution_count": 84,
   "id": "6beb24e5",
   "metadata": {},
   "outputs": [
    {
     "name": "stdout",
     "output_type": "stream",
     "text": [
      "{\n",
      "  \"Best Paper Award\": {\n",
      "    \"The Information Retrieval Experiment Platform\": \"Maik Fr\\u00c3\\u00b6be, Jan Heinrich Reimer, Sean MacAvaney, Niklas Deckers, Simon Reich, Janek Bevendorff, Benno Stein, Matthias Hagen, Martin Potthast\"\n",
      "  },\n",
      "  \"Best Student Paper Award\": {\n",
      "    \"A Symmetric Dual Encoding Dense Retrieval Framework for Knowledge-Intensive Visual Question Answering\": \"Alireza Salemi, Juan Altmayer Pizzorno, Hamed Zamani\"\n",
      "  },\n",
      "  \"Best Paper Honorable Mention\": {\n",
      "    \"Aligning Distillation For Cold-start Item Recommendation\": \"Feiran Huang, Zefan Wang, Xiao Huang, Yufeng Qian, Zhetao Li, Hao Chen\",\n",
      "    \"End-to-End Multimodal Fact-Checking and Explanation Generation: A Challenging Dataset and Models\": \"Barry Menglong Yao, Aditya Shah, Lichao Sun, Jin-Hee Cho, Lifu Huang\",\n",
      "    \"Alleviating Matthew Effect of Offline Reinforcement Learning in Interactive Recommendation\": \"Chongming Gao, Kexin Huang, Jiawei Chen, Yuan Zhang, Biao Li, Peng Jiang, Shiqi Wang, Zhong Zhang, Xiangnan He\",\n",
      "    \"A Geometric Framework for Query Performance Prediction in Conversational Search\": \"Guglielmo Faggioli, Nicola Ferro, Cristina Ioana Muntean, Raffaele Perego, Nicola Tonellotto\"\n",
      "  },\n",
      "  \"Best Short Paper Award\": {\n",
      "    \"SparseEmbed: Learning Sparse Lexical Representations with Contextual Embeddings for Retrieval\": \"Weize Kong, Jeffrey M. Dudek, Cheng Li, Mingyang Zhang, Michael Bendersky\"\n",
      "  },\n",
      "  \"Best Short Paper Honorable Mention\": {\n",
      "    \"Graph Collaborative Signals Denoising and Augmentation for Recommendation\": \"Ziwei Fan, Ke Xu, Zhang Dong, Hao Peng, Jiawei Zhang, Philip S. Yu\",\n",
      "    \"Text-to-Motion Retrieval: Towards Joint Understanding of Human Motion Data and Natural Language\": \"Nicola Messina, Jan Sedmidubsky, Fabrizio Falchi, Tom\\u00c3\\u00a1s Rebok\"\n",
      "  }\n",
      "}\n"
     ]
    }
   ],
   "source": [
    "import json\n",
    "print(json.dumps(awardsMap, indent=2))"
   ]
  }
 ],
 "metadata": {
  "kernelspec": {
   "display_name": "Python 3 (ipykernel)",
   "language": "python",
   "name": "python3"
  },
  "language_info": {
   "codemirror_mode": {
    "name": "ipython",
    "version": 3
   },
   "file_extension": ".py",
   "mimetype": "text/x-python",
   "name": "python",
   "nbconvert_exporter": "python",
   "pygments_lexer": "ipython3",
   "version": "3.11.5"
  }
 },
 "nbformat": 4,
 "nbformat_minor": 5
}
