{
 "cells": [
  {
   "cell_type": "code",
   "execution_count": 1,
   "metadata": {},
   "outputs": [],
   "source": [
    "import numpy as np\n",
    "import pandas as pd"
   ]
  },
  {
   "cell_type": "code",
   "execution_count": 2,
   "metadata": {},
   "outputs": [
    {
     "data": {
      "text/html": [
       "<div>\n",
       "<style scoped>\n",
       "    .dataframe tbody tr th:only-of-type {\n",
       "        vertical-align: middle;\n",
       "    }\n",
       "\n",
       "    .dataframe tbody tr th {\n",
       "        vertical-align: top;\n",
       "    }\n",
       "\n",
       "    .dataframe thead th {\n",
       "        text-align: right;\n",
       "    }\n",
       "</style>\n",
       "<table border=\"1\" class=\"dataframe\">\n",
       "  <thead>\n",
       "    <tr style=\"text-align: right;\">\n",
       "      <th></th>\n",
       "      <th>I1</th>\n",
       "      <th>I2</th>\n",
       "      <th>I3</th>\n",
       "      <th>I4</th>\n",
       "      <th>I5</th>\n",
       "      <th>I6</th>\n",
       "    </tr>\n",
       "  </thead>\n",
       "  <tbody>\n",
       "    <tr>\n",
       "      <th>U1</th>\n",
       "      <td>2</td>\n",
       "      <td>3</td>\n",
       "      <td>0</td>\n",
       "      <td>1</td>\n",
       "      <td>3</td>\n",
       "      <td>8</td>\n",
       "    </tr>\n",
       "    <tr>\n",
       "      <th>U2</th>\n",
       "      <td>0</td>\n",
       "      <td>3</td>\n",
       "      <td>1</td>\n",
       "      <td>4</td>\n",
       "      <td>6</td>\n",
       "      <td>7</td>\n",
       "    </tr>\n",
       "    <tr>\n",
       "      <th>U3</th>\n",
       "      <td>3</td>\n",
       "      <td>0</td>\n",
       "      <td>0</td>\n",
       "      <td>3</td>\n",
       "      <td>4</td>\n",
       "      <td>6</td>\n",
       "    </tr>\n",
       "    <tr>\n",
       "      <th>U4</th>\n",
       "      <td>9</td>\n",
       "      <td>5</td>\n",
       "      <td>1</td>\n",
       "      <td>5</td>\n",
       "      <td>0</td>\n",
       "      <td>7</td>\n",
       "    </tr>\n",
       "    <tr>\n",
       "      <th>U5</th>\n",
       "      <td>3</td>\n",
       "      <td>4</td>\n",
       "      <td>6</td>\n",
       "      <td>7</td>\n",
       "      <td>9</td>\n",
       "      <td>9</td>\n",
       "    </tr>\n",
       "    <tr>\n",
       "      <th>U6</th>\n",
       "      <td>4</td>\n",
       "      <td>0</td>\n",
       "      <td>1</td>\n",
       "      <td>4</td>\n",
       "      <td>8</td>\n",
       "      <td>0</td>\n",
       "    </tr>\n",
       "    <tr>\n",
       "      <th>U7</th>\n",
       "      <td>2</td>\n",
       "      <td>4</td>\n",
       "      <td>0</td>\n",
       "      <td>0</td>\n",
       "      <td>0</td>\n",
       "      <td>8</td>\n",
       "    </tr>\n",
       "  </tbody>\n",
       "</table>\n",
       "</div>"
      ],
      "text/plain": [
       "    I1  I2  I3  I4  I5  I6\n",
       "U1   2   3   0   1   3   8\n",
       "U2   0   3   1   4   6   7\n",
       "U3   3   0   0   3   4   6\n",
       "U4   9   5   1   5   0   7\n",
       "U5   3   4   6   7   9   9\n",
       "U6   4   0   1   4   8   0\n",
       "U7   2   4   0   0   0   8"
      ]
     },
     "execution_count": 2,
     "metadata": {},
     "output_type": "execute_result"
    }
   ],
   "source": [
    "data = np.array([[2, 3, 0, 1, 3, 8], [0, 3, 1, 4, 6, 7], [3, 0, 0, 3, 4, 6], [9, 5, 1, 5, 0, 7], [3, 4, 6, 7, 9, 9], [4, 0, 1, 4, 8, 0], [2, 4, 0, 0, 0, 8]])\n",
    "df = pd.DataFrame(data, columns=[f\"I{i+1}\" for i in range(len(data[0]))], index=[f\"U{i+1}\" for i in range(len(data))])\n",
    "df"
   ]
  },
  {
   "cell_type": "code",
   "execution_count": 3,
   "metadata": {},
   "outputs": [],
   "source": [
    "def calculate_cosine_similarity(vector1, vector2):\n",
    "    non_zero_mask = (vector1 != 0) & (vector2 != 0)\n",
    "    return np.dot(vector1[non_zero_mask], vector2[non_zero_mask]) / (np.linalg.norm(vector1[non_zero_mask]) * np.linalg.norm(vector2[non_zero_mask]))\n",
    "\n",
    "def predict_rating(df, target_user, target_item, method='user', top_n_users_or_items=3):\n",
    "    if method == 'user':\n",
    "        user_similarity_and_ratings = {\n",
    "            user: (\n",
    "                calculate_cosine_similarity(df.loc[target_user], df.loc[user]), \n",
    "                df.loc[user, target_item]\n",
    "            ) \n",
    "            for user in df.index \n",
    "            if user != target_user\n",
    "        }\n",
    "        top_n_similar_users_and_ratings = sorted(user_similarity_and_ratings.items(), key=lambda x: x[1][0], reverse=True)[:top_n_users_or_items]\n",
    "        weighted_ratings = [score[1][0]*score[1][1] for score in top_n_similar_users_and_ratings if score[1][1]]\n",
    "        total_similarity_scores = [score[1][0] for score in top_n_similar_users_and_ratings if score[1][1]]\n",
    "        return sum(weighted_ratings) / sum(total_similarity_scores)\n",
    "        \n",
    "    elif method == 'item':\n",
    "        item_similarity_and_ratings = {\n",
    "            item: (\n",
    "                calculate_cosine_similarity(df[target_item], df[item]), \n",
    "                df.loc[target_user, item]\n",
    "            ) \n",
    "            for item in df.columns \n",
    "            if item != target_item\n",
    "        }\n",
    "        top_n_similar_items_and_ratings = sorted(item_similarity_and_ratings.items(), key=lambda x: x[1][0], reverse=True)[:top_n_users_or_items]\n",
    "        weighted_ratings = [score[1][0]*score[1][1] for score in top_n_similar_items_and_ratings if score[1][1]]\n",
    "        total_similarity_scores = [score[1][0] for score in top_n_similar_items_and_ratings if score[1][1]]\n",
    "        return sum(weighted_ratings) / sum(total_similarity_scores)\n"
   ]
  },
  {
   "cell_type": "code",
   "execution_count": 4,
   "metadata": {},
   "outputs": [
    {
     "name": "stdout",
     "output_type": "stream",
     "text": [
      "1.0\n",
      "3.9647254783365797\n"
     ]
    }
   ],
   "source": [
    "print(predict_rating(df, 'U1', 'I3')) \n",
    "print(predict_rating(df, 'U1', 'I3', 'item'))"
   ]
  },
  {
   "cell_type": "code",
   "execution_count": 5,
   "metadata": {},
   "outputs": [],
   "source": [
    "# BONUS\n",
    "def get_recommendations(df, recommendation_threshold=5, method='user'):\n",
    "    recommendations = {}\n",
    "\n",
    "    for user in df.index:\n",
    "        user_recommendations = []\n",
    "        for item in df.columns:\n",
    "            if df.loc[user, item] == 0:  # only recommend items not yet rated by the user\n",
    "                predicted_rating = predict_rating(df, user, item, method, 5)\n",
    "                if predicted_rating > recommendation_threshold:\n",
    "                    user_recommendations.append((item, predicted_rating))\n",
    "        recommendations[user] = sorted(user_recommendations, key=lambda x: x[1], reverse=True)\n",
    "\n",
    "    return recommendations"
   ]
  },
  {
   "cell_type": "code",
   "execution_count": 6,
   "metadata": {},
   "outputs": [
    {
     "data": {
      "text/plain": [
       "{'U1': [],\n",
       " 'U2': [],\n",
       " 'U3': [],\n",
       " 'U4': [('I5', 6.686058101498526)],\n",
       " 'U5': [],\n",
       " 'U6': [('I6', 7.203885650649584)],\n",
       " 'U7': [('I5', 6.010464489531713)]}"
      ]
     },
     "execution_count": 6,
     "metadata": {},
     "output_type": "execute_result"
    }
   ],
   "source": [
    "get_recommendations(df)"
   ]
  }
 ],
 "metadata": {
  "kernelspec": {
   "display_name": "Python 3",
   "language": "python",
   "name": "python3"
  },
  "language_info": {
   "codemirror_mode": {
    "name": "ipython",
    "version": 3
   },
   "file_extension": ".py",
   "mimetype": "text/x-python",
   "name": "python",
   "nbconvert_exporter": "python",
   "pygments_lexer": "ipython3",
   "version": "3.10.12"
  }
 },
 "nbformat": 4,
 "nbformat_minor": 2
}
