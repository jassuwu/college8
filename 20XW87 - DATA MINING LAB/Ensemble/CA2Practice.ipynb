{
 "cells": [
  {
   "cell_type": "code",
   "execution_count": 11,
   "metadata": {},
   "outputs": [],
   "source": [
    "import time\n",
    "\n",
    "import numpy as np\n",
    "import pandas as pd\n",
    "\n",
    "from sklearn.preprocessing import LabelEncoder, StandardScaler\n",
    "from imblearn.over_sampling import SMOTE\n",
    "from sklearn.decomposition import PCA"
   ]
  },
  {
   "cell_type": "code",
   "execution_count": 2,
   "metadata": {},
   "outputs": [],
   "source": [
    "df_train = pd.read_csv(\"UNSW_NB15_training-set.csv\").drop(\"id\", axis=1)\n",
    "df_test = pd.read_csv(\"UNSW_NB15_testing-set.csv\").drop(\"id\", axis=1)"
   ]
  },
  {
   "cell_type": "code",
   "execution_count": 3,
   "metadata": {},
   "outputs": [],
   "source": [
    "def preprocess_df(df: pd.DataFrame) -> pd.DataFrame:\n",
    "    df = df.copy(deep=True)\n",
    "\n",
    "    # Remove duplicates\n",
    "    df.drop_duplicates(inplace=True)\n",
    "\n",
    "    # Encode continuous values\n",
    "    X, y = df.drop('label', axis=1), df['label']\n",
    "    le = LabelEncoder()\n",
    "    for col in X.columns:\n",
    "        if X[col].dtype == object:\n",
    "            X[col] = le.fit_transform(X[col])\n",
    "\n",
    "    # Normalize the other columns\n",
    "    df = pd.DataFrame(StandardScaler().fit_transform(X), columns=X.columns, index=X.index)\n",
    "    df['label'] = y    \n",
    "    \n",
    "    return df\n",
    "\n",
    "def feature_select_with_corr(df: pd.DataFrame, threshold: float) -> pd.DataFrame:\n",
    "   df = df.copy(deep=True)\n",
    "\n",
    "   # Calculate the absolute value of the correlation matrix of df\n",
    "   corr_matrix = df.drop('label', axis=1).corr().abs()\n",
    "\n",
    "   # Get the upper triangle of the correlation matrix\n",
    "   upper_triangle = np.triu(corr_matrix, k=1)\n",
    "\n",
    "   # Find and return the features that are highly correlated with others from the df\n",
    "   return [col for i, col in enumerate(corr_matrix.columns) if any(upper_triangle[i, :] > threshold)]\n",
    "\n",
    "def resample_df(df: pd.DataFrame) -> pd.DataFrame:\n",
    "    df = df.copy(deep=True)\n",
    "    X, y = df.drop('label', axis=1), df['label']\n",
    "    \n",
    "    # Resample with SMOTE\n",
    "    smote = SMOTE(random_state=42, k_neighbors=5)\n",
    "    X, y = smote.fit_resample(X, y)\n",
    "    \n",
    "    # Remake the df\n",
    "    df = pd.DataFrame(X, columns=X.columns)\n",
    "    df['label'] = y\n",
    "    \n",
    "    return df\n",
    "\n",
    "\n",
    "def pca_transform_df(df: pd.DataFrame, pca: PCA) -> pd.DataFrame:\n",
    "    df = df.copy(deep=True)\n",
    "\n",
    "    # Split and transform\n",
    "    X, y = df.drop('label', axis=1), df['label']\n",
    "    transformed_X = pca.transform(X)\n",
    "\n",
    "    # Merge\n",
    "    df = pd.DataFrame(transformed_X, columns=[f'PC{i+1}' for i in range(transformed_X.shape[1])], index=X.index)\n",
    "    df['label'] = y\n",
    "    \n",
    "    return df"
   ]
  },
  {
   "cell_type": "code",
   "execution_count": 4,
   "metadata": {},
   "outputs": [],
   "source": [
    "# Preprocess both the datasets\n",
    "df_train, df_test = preprocess_df(df_train), preprocess_df(df_test)\n",
    "\n",
    "# Get the irrelevant features\n",
    "highly_correlated_features = feature_select_with_corr(df_train, 0.8)\n",
    "df_train.drop(columns=highly_correlated_features, inplace=True)\n",
    "df_test.drop(columns=highly_correlated_features, inplace=True)\n",
    "\n",
    "# Resample the train dataset\n",
    "df_train = resample_df(df_train)\n",
    "\n",
    "# PCA\n",
    "pca = PCA(n_components=10).fit(df_train.drop(\"label\", axis=1))\n",
    "df_train, df_test = pca_transform_df(df_train, pca), pca_transform_df(df_test, pca)"
   ]
  },
  {
   "cell_type": "code",
   "execution_count": 5,
   "metadata": {},
   "outputs": [],
   "source": [
    "X_train, y_train = df_train.drop('label', axis=1), df_train['label']\n",
    "X_test, y_test = df_test.drop('label', axis=1), df_test['label']"
   ]
  },
  {
   "cell_type": "code",
   "execution_count": 9,
   "metadata": {},
   "outputs": [],
   "source": [
    "from sklearn.linear_model import LogisticRegression\n",
    "from sklearn.svm import SVC\n",
    "from sklearn.neighbors import KNeighborsClassifier\n",
    "from sklearn.tree import DecisionTreeClassifier\n",
    "from sklearn.ensemble import RandomForestClassifier, AdaBoostClassifier, GradientBoostingClassifier, VotingClassifier\n",
    "from sklearn.model_selection import cross_val_score, GridSearchCV\n",
    "from sklearn.metrics import classification_report"
   ]
  },
  {
   "cell_type": "code",
   "execution_count": 7,
   "metadata": {},
   "outputs": [
    {
     "name": "stdout",
     "output_type": "stream",
     "text": [
      "\n",
      "Existing model performance:\n",
      "              precision    recall  f1-score   support\n",
      "\n",
      "           0       0.89      0.68      0.77     34206\n",
      "           1       0.63      0.86      0.73     21739\n",
      "\n",
      "    accuracy                           0.75     55945\n",
      "   macro avg       0.76      0.77      0.75     55945\n",
      "weighted avg       0.79      0.75      0.75     55945\n",
      "\n"
     ]
    }
   ],
   "source": [
    "existing_model = LogisticRegression()\n",
    "existing_model.fit(X_train, y_train)\n",
    "existing_model_preds = existing_model.predict(X_test)\n",
    "\n",
    "print(\"\\nExisting model performance:\")\n",
    "print(classification_report(y_test, existing_model_preds))"
   ]
  },
  {
   "cell_type": "markdown",
   "metadata": {},
   "source": [
    "Picking the best models using K-Fold Cross validation"
   ]
  },
  {
   "cell_type": "code",
   "execution_count": 12,
   "metadata": {},
   "outputs": [
    {
     "name": "stdout",
     "output_type": "stream",
     "text": [
      "LogisticRegression\n",
      "KNeighborsClassifier\n",
      "SVC\n",
      "DecisionTreeClassifier\n",
      "RandomForestClassifier\n",
      "GradientBoostingClassifier\n",
      "AdaBoostClassifier\n",
      "Model 1: KNeighborsClassifier, Score: 0.9283169203222918\n",
      "Model 2: RandomForestClassifier, Score: 0.9158012533572069\n",
      "Model 3: DecisionTreeClassifier, Score: 0.9120680393912265\n",
      "Model 4: GradientBoostingClassifier, Score: 0.8734377797672337\n",
      "Model 5: SVC, Score: 0.865550581915846\n",
      "Model 6: AdaBoostClassifier, Score: 0.8612175470008953\n",
      "Model 7: LogisticRegression, Score: 0.8344762757385855\n"
     ]
    }
   ],
   "source": [
    "# Define base models\n",
    "model1 = LogisticRegression()\n",
    "model2 = KNeighborsClassifier()\n",
    "model3 = SVC()\n",
    "model4 = DecisionTreeClassifier()\n",
    "model5 = RandomForestClassifier()\n",
    "model6 = GradientBoostingClassifier()\n",
    "model7 = AdaBoostClassifier()\n",
    "\n",
    "# List of models\n",
    "models = [model1, model2, model3, model4, model5, model6, model7]\n",
    "\n",
    "# Dictionary to hold model names and their scores\n",
    "scores = {}\n",
    "\n",
    "# Evaluate each model\n",
    "for model in models:\n",
    "    model_name = type(model).__name__\n",
    "    print(model_name)\n",
    "    score = cross_val_score(model, X_train, y_train, cv=2, scoring='accuracy').mean()\n",
    "    scores[model_name] = score\n",
    "\n",
    "# Sort models based on score\n",
    "sorted_scores = sorted(scores.items(), key=lambda x: x[1], reverse=True)\n",
    "\n",
    "for i, (model_name, score) in enumerate(sorted_scores):\n",
    "    print(f\"Model {i+1}: {model_name}, Score: {score}\")"
   ]
  },
  {
   "cell_type": "code",
   "execution_count": 10,
   "metadata": {},
   "outputs": [
    {
     "name": "stdout",
     "output_type": "stream",
     "text": [
      "{'dt__max_depth': None, 'gb__learning_rate': 0.1, 'gb__n_estimators': 5, 'knn__n_neighbors': 3, 'rf__n_estimators': 3}\n"
     ]
    }
   ],
   "source": [
    "# PICKING THE BEST HYPERPARAMETERS WITH GRIDSEARCH\n",
    "\n",
    "# Define base models\n",
    "chosen_model_1 = KNeighborsClassifier()\n",
    "chosen_model_2 = RandomForestClassifier()\n",
    "chosen_model_3 = DecisionTreeClassifier()\n",
    "chosen_model_4 = GradientBoostingClassifier()\n",
    "\n",
    "# Define ensemble model\n",
    "ensemble = VotingClassifier(estimators=[('knn', chosen_model_1), ('rf', chosen_model_2), ('dt', chosen_model_3), ('gb', chosen_model_4)], voting='hard')\n",
    "\n",
    "# Define hyperparameters to tune\n",
    "params = {\n",
    "    'knn__n_neighbors': [3, 5], \n",
    "    'rf__n_estimators': [3, 5], \n",
    "    'dt__max_depth': [None,2, 5],\n",
    "    'gb__n_estimators': [2, 5],\n",
    "    'gb__learning_rate': [0.1, 0.01]\n",
    "}\n",
    "\n",
    "# Perform grid search\n",
    "grid = GridSearchCV(estimator=ensemble, param_grid=params, cv=2)\n",
    "grid.fit(X_train, y_train)\n",
    "\n",
    "# Print best parameters\n",
    "print(grid.best_params_)"
   ]
  },
  {
   "cell_type": "markdown",
   "metadata": {},
   "source": [
    "The gridsearch execution took 8 minutes 51.4 seconds."
   ]
  },
  {
   "cell_type": "code",
   "execution_count": 12,
   "metadata": {},
   "outputs": [
    {
     "name": "stdout",
     "output_type": "stream",
     "text": [
      "\n",
      "Execution took 11.883054256439209 seconds.\n",
      "\n",
      "Ensemble Model Performance:\n",
      "              precision    recall  f1-score   support\n",
      "\n",
      "           0       0.98      0.84      0.91     34206\n",
      "           1       0.80      0.98      0.88     21739\n",
      "\n",
      "    accuracy                           0.90     55945\n",
      "   macro avg       0.89      0.91      0.89     55945\n",
      "weighted avg       0.91      0.90      0.90     55945\n",
      "\n"
     ]
    }
   ],
   "source": [
    "# Ensemble of models\n",
    "chosen_model_1 = KNeighborsClassifier(n_neighbors=3)\n",
    "chosen_model_2 = RandomForestClassifier(n_estimators=3)\n",
    "chosen_model_3 = DecisionTreeClassifier(max_depth=None)\n",
    "chosen_model_4 = GradientBoostingClassifier(learning_rate=0.1, n_estimators=5)\n",
    "\n",
    "# Define ensemble model\n",
    "start_time = time.time()\n",
    "\n",
    "ensemble = VotingClassifier(estimators=[('knn', chosen_model_1), ('rf', chosen_model_2), ('dt', chosen_model_3), ('gb', chosen_model_4)], voting='hard')\n",
    "ensemble.fit(X_train, y_train)\n",
    "ensemble_preds = ensemble.predict(X_test)\n",
    "\n",
    "end_time = time.time()\n",
    "\n",
    "print(f\"\\nExecution took {end_time - start_time} seconds.\")\n",
    "print(\"\\nEnsemble Model Performance:\")\n",
    "print(classification_report(y_test, ensemble_preds))"
   ]
  }
 ],
 "metadata": {
  "kernelspec": {
   "display_name": "Python 3",
   "language": "python",
   "name": "python3"
  },
  "language_info": {
   "codemirror_mode": {
    "name": "ipython",
    "version": 3
   },
   "file_extension": ".py",
   "mimetype": "text/x-python",
   "name": "python",
   "nbconvert_exporter": "python",
   "pygments_lexer": "ipython3",
   "version": "3.10.12"
  }
 },
 "nbformat": 4,
 "nbformat_minor": 2
}
