{
 "cells": [
  {
   "cell_type": "code",
   "execution_count": 1,
   "id": "a41d3a66",
   "metadata": {},
   "outputs": [
    {
     "name": "stderr",
     "output_type": "stream",
     "text": [
      "Matplotlib is building the font cache; this may take a moment.\n"
     ]
    }
   ],
   "source": [
    "import numpy as np\n",
    "import pandas as pd\n",
    "import matplotlib.pyplot as plt"
   ]
  },
  {
   "cell_type": "code",
   "execution_count": 2,
   "id": "4aa6357a",
   "metadata": {},
   "outputs": [],
   "source": [
    "df = pd.read_csv('train.csv')"
   ]
  },
  {
   "cell_type": "code",
   "execution_count": 3,
   "id": "5ac2e47d",
   "metadata": {},
   "outputs": [
    {
     "data": {
      "text/html": [
       "<div>\n",
       "<style scoped>\n",
       "    .dataframe tbody tr th:only-of-type {\n",
       "        vertical-align: middle;\n",
       "    }\n",
       "\n",
       "    .dataframe tbody tr th {\n",
       "        vertical-align: top;\n",
       "    }\n",
       "\n",
       "    .dataframe thead th {\n",
       "        text-align: right;\n",
       "    }\n",
       "</style>\n",
       "<table border=\"1\" class=\"dataframe\">\n",
       "  <thead>\n",
       "    <tr style=\"text-align: right;\">\n",
       "      <th></th>\n",
       "      <th>id</th>\n",
       "      <th>Gender</th>\n",
       "      <th>Age</th>\n",
       "      <th>Driving_License</th>\n",
       "      <th>Region_Code</th>\n",
       "      <th>Previously_Insured</th>\n",
       "      <th>Vehicle_Age</th>\n",
       "      <th>Vehicle_Damage</th>\n",
       "      <th>Annual_Premium</th>\n",
       "      <th>Policy_Sales_Channel</th>\n",
       "      <th>Vintage</th>\n",
       "      <th>Response</th>\n",
       "    </tr>\n",
       "  </thead>\n",
       "  <tbody>\n",
       "    <tr>\n",
       "      <th>0</th>\n",
       "      <td>1</td>\n",
       "      <td>Male</td>\n",
       "      <td>44</td>\n",
       "      <td>1</td>\n",
       "      <td>28.0</td>\n",
       "      <td>0</td>\n",
       "      <td>&gt; 2 Years</td>\n",
       "      <td>Yes</td>\n",
       "      <td>40454.0</td>\n",
       "      <td>26.0</td>\n",
       "      <td>217</td>\n",
       "      <td>1</td>\n",
       "    </tr>\n",
       "    <tr>\n",
       "      <th>1</th>\n",
       "      <td>2</td>\n",
       "      <td>Male</td>\n",
       "      <td>76</td>\n",
       "      <td>1</td>\n",
       "      <td>3.0</td>\n",
       "      <td>0</td>\n",
       "      <td>1-2 Year</td>\n",
       "      <td>No</td>\n",
       "      <td>33536.0</td>\n",
       "      <td>26.0</td>\n",
       "      <td>183</td>\n",
       "      <td>0</td>\n",
       "    </tr>\n",
       "    <tr>\n",
       "      <th>2</th>\n",
       "      <td>3</td>\n",
       "      <td>Male</td>\n",
       "      <td>47</td>\n",
       "      <td>1</td>\n",
       "      <td>28.0</td>\n",
       "      <td>0</td>\n",
       "      <td>&gt; 2 Years</td>\n",
       "      <td>Yes</td>\n",
       "      <td>38294.0</td>\n",
       "      <td>26.0</td>\n",
       "      <td>27</td>\n",
       "      <td>1</td>\n",
       "    </tr>\n",
       "    <tr>\n",
       "      <th>3</th>\n",
       "      <td>4</td>\n",
       "      <td>Male</td>\n",
       "      <td>21</td>\n",
       "      <td>1</td>\n",
       "      <td>11.0</td>\n",
       "      <td>1</td>\n",
       "      <td>&lt; 1 Year</td>\n",
       "      <td>No</td>\n",
       "      <td>28619.0</td>\n",
       "      <td>152.0</td>\n",
       "      <td>203</td>\n",
       "      <td>0</td>\n",
       "    </tr>\n",
       "    <tr>\n",
       "      <th>4</th>\n",
       "      <td>5</td>\n",
       "      <td>Female</td>\n",
       "      <td>29</td>\n",
       "      <td>1</td>\n",
       "      <td>41.0</td>\n",
       "      <td>1</td>\n",
       "      <td>&lt; 1 Year</td>\n",
       "      <td>No</td>\n",
       "      <td>27496.0</td>\n",
       "      <td>152.0</td>\n",
       "      <td>39</td>\n",
       "      <td>0</td>\n",
       "    </tr>\n",
       "    <tr>\n",
       "      <th>...</th>\n",
       "      <td>...</td>\n",
       "      <td>...</td>\n",
       "      <td>...</td>\n",
       "      <td>...</td>\n",
       "      <td>...</td>\n",
       "      <td>...</td>\n",
       "      <td>...</td>\n",
       "      <td>...</td>\n",
       "      <td>...</td>\n",
       "      <td>...</td>\n",
       "      <td>...</td>\n",
       "      <td>...</td>\n",
       "    </tr>\n",
       "    <tr>\n",
       "      <th>381104</th>\n",
       "      <td>381105</td>\n",
       "      <td>Male</td>\n",
       "      <td>74</td>\n",
       "      <td>1</td>\n",
       "      <td>26.0</td>\n",
       "      <td>1</td>\n",
       "      <td>1-2 Year</td>\n",
       "      <td>No</td>\n",
       "      <td>30170.0</td>\n",
       "      <td>26.0</td>\n",
       "      <td>88</td>\n",
       "      <td>0</td>\n",
       "    </tr>\n",
       "    <tr>\n",
       "      <th>381105</th>\n",
       "      <td>381106</td>\n",
       "      <td>Male</td>\n",
       "      <td>30</td>\n",
       "      <td>1</td>\n",
       "      <td>37.0</td>\n",
       "      <td>1</td>\n",
       "      <td>&lt; 1 Year</td>\n",
       "      <td>No</td>\n",
       "      <td>40016.0</td>\n",
       "      <td>152.0</td>\n",
       "      <td>131</td>\n",
       "      <td>0</td>\n",
       "    </tr>\n",
       "    <tr>\n",
       "      <th>381106</th>\n",
       "      <td>381107</td>\n",
       "      <td>Male</td>\n",
       "      <td>21</td>\n",
       "      <td>1</td>\n",
       "      <td>30.0</td>\n",
       "      <td>1</td>\n",
       "      <td>&lt; 1 Year</td>\n",
       "      <td>No</td>\n",
       "      <td>35118.0</td>\n",
       "      <td>160.0</td>\n",
       "      <td>161</td>\n",
       "      <td>0</td>\n",
       "    </tr>\n",
       "    <tr>\n",
       "      <th>381107</th>\n",
       "      <td>381108</td>\n",
       "      <td>Female</td>\n",
       "      <td>68</td>\n",
       "      <td>1</td>\n",
       "      <td>14.0</td>\n",
       "      <td>0</td>\n",
       "      <td>&gt; 2 Years</td>\n",
       "      <td>Yes</td>\n",
       "      <td>44617.0</td>\n",
       "      <td>124.0</td>\n",
       "      <td>74</td>\n",
       "      <td>0</td>\n",
       "    </tr>\n",
       "    <tr>\n",
       "      <th>381108</th>\n",
       "      <td>381109</td>\n",
       "      <td>Male</td>\n",
       "      <td>46</td>\n",
       "      <td>1</td>\n",
       "      <td>29.0</td>\n",
       "      <td>0</td>\n",
       "      <td>1-2 Year</td>\n",
       "      <td>No</td>\n",
       "      <td>41777.0</td>\n",
       "      <td>26.0</td>\n",
       "      <td>237</td>\n",
       "      <td>0</td>\n",
       "    </tr>\n",
       "  </tbody>\n",
       "</table>\n",
       "<p>381109 rows × 12 columns</p>\n",
       "</div>"
      ],
      "text/plain": [
       "            id  Gender  Age  Driving_License  Region_Code  Previously_Insured  \\\n",
       "0            1    Male   44                1         28.0                   0   \n",
       "1            2    Male   76                1          3.0                   0   \n",
       "2            3    Male   47                1         28.0                   0   \n",
       "3            4    Male   21                1         11.0                   1   \n",
       "4            5  Female   29                1         41.0                   1   \n",
       "...        ...     ...  ...              ...          ...                 ...   \n",
       "381104  381105    Male   74                1         26.0                   1   \n",
       "381105  381106    Male   30                1         37.0                   1   \n",
       "381106  381107    Male   21                1         30.0                   1   \n",
       "381107  381108  Female   68                1         14.0                   0   \n",
       "381108  381109    Male   46                1         29.0                   0   \n",
       "\n",
       "       Vehicle_Age Vehicle_Damage  Annual_Premium  Policy_Sales_Channel  \\\n",
       "0        > 2 Years            Yes         40454.0                  26.0   \n",
       "1         1-2 Year             No         33536.0                  26.0   \n",
       "2        > 2 Years            Yes         38294.0                  26.0   \n",
       "3         < 1 Year             No         28619.0                 152.0   \n",
       "4         < 1 Year             No         27496.0                 152.0   \n",
       "...            ...            ...             ...                   ...   \n",
       "381104    1-2 Year             No         30170.0                  26.0   \n",
       "381105    < 1 Year             No         40016.0                 152.0   \n",
       "381106    < 1 Year             No         35118.0                 160.0   \n",
       "381107   > 2 Years            Yes         44617.0                 124.0   \n",
       "381108    1-2 Year             No         41777.0                  26.0   \n",
       "\n",
       "        Vintage  Response  \n",
       "0           217         1  \n",
       "1           183         0  \n",
       "2            27         1  \n",
       "3           203         0  \n",
       "4            39         0  \n",
       "...         ...       ...  \n",
       "381104       88         0  \n",
       "381105      131         0  \n",
       "381106      161         0  \n",
       "381107       74         0  \n",
       "381108      237         0  \n",
       "\n",
       "[381109 rows x 12 columns]"
      ]
     },
     "execution_count": 3,
     "metadata": {},
     "output_type": "execute_result"
    }
   ],
   "source": [
    "df"
   ]
  },
  {
   "cell_type": "markdown",
   "id": "954e6bbc",
   "metadata": {},
   "source": [
    "### Descriptive Statistical Analysis"
   ]
  },
  {
   "cell_type": "code",
   "execution_count": 4,
   "id": "d80c2e89",
   "metadata": {
    "scrolled": true
   },
   "outputs": [
    {
     "data": {
      "text/plain": [
       "38.822583565331705"
      ]
     },
     "execution_count": 4,
     "metadata": {},
     "output_type": "execute_result"
    }
   ],
   "source": [
    "# 1\n",
    "np.mean(df['Age'])"
   ]
  },
  {
   "cell_type": "code",
   "execution_count": 5,
   "id": "f6fb5a51",
   "metadata": {},
   "outputs": [
    {
     "data": {
      "text/plain": [
       "30564.389581458323"
      ]
     },
     "execution_count": 5,
     "metadata": {},
     "output_type": "execute_result"
    }
   ],
   "source": [
    "# 2\n",
    "np.mean(df['Annual_Premium'])"
   ]
  },
  {
   "cell_type": "code",
   "execution_count": 6,
   "id": "ea28aff5",
   "metadata": {},
   "outputs": [
    {
     "name": "stdout",
     "output_type": "stream",
     "text": [
      "206089 175020\n"
     ]
    }
   ],
   "source": [
    "# 3\n",
    "print(df['Gender'].tolist().count('Male'), df['Gender'].tolist().count('Female'))"
   ]
  },
  {
   "cell_type": "code",
   "execution_count": 7,
   "id": "2ee6a2c7",
   "metadata": {},
   "outputs": [
    {
     "name": "stdout",
     "output_type": "stream",
     "text": [
      "40.90309526466721 36.372745971888925\n"
     ]
    }
   ],
   "source": [
    "# 4\n",
    "print(df.loc[df['Gender'] == 'Male', 'Age'].mean(), df.loc[df['Gender'] == 'Female', 'Age'].mean())"
   ]
  },
  {
   "cell_type": "code",
   "execution_count": 8,
   "id": "db9602a5",
   "metadata": {},
   "outputs": [
    {
     "name": "stdout",
     "output_type": "stream",
     "text": [
      "30496.81576028787 30644.289197608632\n"
     ]
    }
   ],
   "source": [
    "# 5\n",
    "print(df.loc[df['Previously_Insured'] == 0, 'Annual_Premium'].mean(), df.loc[df['Previously_Insured'] == 1, 'Annual_Premium'].mean())"
   ]
  },
  {
   "cell_type": "code",
   "execution_count": 9,
   "id": "c65e2b77",
   "metadata": {},
   "outputs": [
    {
     "name": "stdout",
     "output_type": "stream",
     "text": [
      "34999.72783251232 30554.919365653688\n"
     ]
    }
   ],
   "source": [
    "# 6\n",
    "print(df.loc[df['Driving_License'] == 0, 'Annual_Premium'].mean(), df.loc[df['Driving_License'] == 1, 'Annual_Premium'].mean())"
   ]
  },
  {
   "cell_type": "code",
   "execution_count": 10,
   "id": "cf6b29d6",
   "metadata": {
    "scrolled": true
   },
   "outputs": [
    {
     "name": "stdout",
     "output_type": "stream",
     "text": [
      "335192986.22611684 250286699.85283348\n"
     ]
    }
   ],
   "source": [
    "# 7\n",
    "print(df.loc[df['Previously_Insured'] == 0, 'Annual_Premium'].var(), df.loc[df['Previously_Insured'] == 1, 'Annual_Premium'].var())"
   ]
  },
  {
   "cell_type": "markdown",
   "id": "45752f3e",
   "metadata": {},
   "source": [
    "### Discrete Variable Analysis"
   ]
  },
  {
   "cell_type": "code",
   "execution_count": 11,
   "id": "33ebd29a",
   "metadata": {},
   "outputs": [
    {
     "data": {
      "text/plain": [
       "<BarContainer object of 66 artists>"
      ]
     },
     "execution_count": 11,
     "metadata": {},
     "output_type": "execute_result"
    },
    {
     "data": {
      "image/png": "[encoded data removed]",
      "text/plain": [
       "<Figure size 640x480 with 1 Axes>"
      ]
     },
     "metadata": {},
     "output_type": "display_data"
    }
   ],
   "source": [
    "# 1\n",
    "plt.bar(df['Age'].value_counts(normalize=True).index, df['Age'].value_counts(normalize=True).values, color ='maroon', width = 0.4)"
   ]
  },
  {
   "cell_type": "code",
   "execution_count": 12,
   "id": "f70ed464",
   "metadata": {},
   "outputs": [
    {
     "data": {
      "text/plain": [
       "Gender\n",
       "Male      0.540761\n",
       "Female    0.459239\n",
       "Name: proportion, dtype: float64"
      ]
     },
     "execution_count": 12,
     "metadata": {},
     "output_type": "execute_result"
    }
   ],
   "source": [
    "# 2\n",
    "df['Gender'].value_counts(normalize=True)"
   ]
  },
  {
   "cell_type": "code",
   "execution_count": 13,
   "id": "30a52327",
   "metadata": {},
   "outputs": [
    {
     "data": {
      "text/plain": [
       "{'malePremiumProportion': 0.5010378303055196,\n",
       " 'femalePremiumProportion': 0.4989621696944805}"
      ]
     },
     "execution_count": 13,
     "metadata": {},
     "output_type": "execute_result"
    }
   ],
   "source": [
    "# 3\n",
    "malePremium = df.loc[df['Gender'] == 'Male', 'Annual_Premium'].mean()\n",
    "femalePremium = df.loc[df['Gender'] == 'Female', 'Annual_Premium'].mean()\n",
    "{\n",
    "    \"malePremiumProportion\": malePremium / (malePremium + femalePremium),\n",
    "    \"femalePremiumProportion\": femalePremium / (malePremium + femalePremium)\n",
    "}"
   ]
  },
  {
   "cell_type": "code",
   "execution_count": 14,
   "id": "098252aa",
   "metadata": {},
   "outputs": [
    {
     "data": {
      "text/plain": [
       "Previously_Insured\n",
       "0    0.54179\n",
       "1    0.45821\n",
       "Name: proportion, dtype: float64"
      ]
     },
     "execution_count": 14,
     "metadata": {},
     "output_type": "execute_result"
    }
   ],
   "source": [
    "# 4\n",
    "df['Previously_Insured'].value_counts(normalize=True)"
   ]
  },
  {
   "cell_type": "code",
   "execution_count": 15,
   "id": "9c77d0a4",
   "metadata": {},
   "outputs": [
    {
     "data": {
      "text/plain": [
       "Vehicle_Age\n",
       "1-2 Year     0.525613\n",
       "< 1 Year     0.432385\n",
       "> 2 Years    0.042001\n",
       "Name: proportion, dtype: float64"
      ]
     },
     "execution_count": 15,
     "metadata": {},
     "output_type": "execute_result"
    }
   ],
   "source": [
    "# 5\n",
    "df['Vehicle_Age'].value_counts(normalize=True)"
   ]
  },
  {
   "cell_type": "code",
   "execution_count": 16,
   "id": "df62596a",
   "metadata": {},
   "outputs": [
    {
     "data": {
      "text/plain": [
       "Response\n",
       "0    0.877437\n",
       "1    0.122563\n",
       "Name: proportion, dtype: float64"
      ]
     },
     "execution_count": 16,
     "metadata": {},
     "output_type": "execute_result"
    }
   ],
   "source": [
    "# 6\n",
    "df['Response'].value_counts(normalize=True)"
   ]
  },
  {
   "cell_type": "code",
   "execution_count": 17,
   "id": "ca6f638e",
   "metadata": {},
   "outputs": [
    {
     "data": {
      "text/plain": [
       "Response\n",
       "0    0.956295\n",
       "1    0.043705\n",
       "Name: proportion, dtype: float64"
      ]
     },
     "execution_count": 17,
     "metadata": {},
     "output_type": "execute_result"
    }
   ],
   "source": [
    "# 7\n",
    "df.loc[df['Vehicle_Age'] == '< 1 Year', 'Response'].value_counts(normalize=True)"
   ]
  },
  {
   "cell_type": "code",
   "execution_count": 18,
   "id": "c31f0f16",
   "metadata": {},
   "outputs": [
    {
     "data": {
      "text/plain": [
       "Response\n",
       "0    0.999095\n",
       "1    0.000905\n",
       "Name: proportion, dtype: float64"
      ]
     },
     "execution_count": 18,
     "metadata": {},
     "output_type": "execute_result"
    }
   ],
   "source": [
    "# 8\n",
    "df.loc[df['Previously_Insured'] == 1, 'Response'].value_counts(normalize=True)"
   ]
  },
  {
   "cell_type": "markdown",
   "id": "69694323",
   "metadata": {},
   "source": [
    "### Continuous Variable Analysis"
   ]
  },
  {
   "cell_type": "code",
   "execution_count": 19,
   "id": "cd2a7f6f",
   "metadata": {},
   "outputs": [
    {
     "name": "stderr",
     "output_type": "stream",
     "text": [
      "C:\\Users\\TEMP.CS2K16.001\\AppData\\Local\\Temp\\ipykernel_1456\\1728811000.py:2: UserWarning: Boolean Series key will be reindexed to match DataFrame index.\n",
      "  ageAbove30WithPremiumAbove30500Prob = len(df[df['Age'] > 30][df['Annual_Premium'] > 30500])/len(df[df['Age'] > 30])\n",
      "C:\\Users\\TEMP.CS2K16.001\\AppData\\Local\\Temp\\ipykernel_1456\\1728811000.py:3: UserWarning: Boolean Series key will be reindexed to match DataFrame index.\n",
      "  ageBelow30WithPremiumAbove30500Prob = len(df[df['Age'] < 30][df['Annual_Premium'] > 30500])/len(df[df['Age'] < 30])\n"
     ]
    },
    {
     "data": {
      "text/plain": [
       "(0.5771233974358975, 0.5028382183334085)"
      ]
     },
     "execution_count": 19,
     "metadata": {},
     "output_type": "execute_result"
    }
   ],
   "source": [
    "# 1\n",
    "ageAbove30WithPremiumAbove30500Prob = len(df[df['Age'] > 30][df['Annual_Premium'] > 30500])/len(df[df['Age'] > 30])\n",
    "ageBelow30WithPremiumAbove30500Prob = len(df[df['Age'] < 30][df['Annual_Premium'] > 30500])/len(df[df['Age'] < 30])\n",
    "ageAbove30WithPremiumAbove30500Prob, ageBelow30WithPremiumAbove30500Prob"
   ]
  },
  {
   "cell_type": "code",
   "execution_count": 20,
   "id": "e27c7655",
   "metadata": {},
   "outputs": [
    {
     "name": "stderr",
     "output_type": "stream",
     "text": [
      "C:\\Users\\TEMP.CS2K16.001\\AppData\\Local\\Temp\\ipykernel_1456\\2475906166.py:2: UserWarning: Boolean Series key will be reindexed to match DataFrame index.\n",
      "  ageAbove30NoPrevInsWithPremiumAbove30500Prob = len(df[df['Age'] > 30][df['Previously_Insured'] == 0][df['Annual_Premium'] > 30500])/len(df[df['Age'] > 30][df['Previously_Insured'] == 0])\n",
      "C:\\Users\\TEMP.CS2K16.001\\AppData\\Local\\Temp\\ipykernel_1456\\2475906166.py:2: UserWarning: Boolean Series key will be reindexed to match DataFrame index.\n",
      "  ageAbove30NoPrevInsWithPremiumAbove30500Prob = len(df[df['Age'] > 30][df['Previously_Insured'] == 0][df['Annual_Premium'] > 30500])/len(df[df['Age'] > 30][df['Previously_Insured'] == 0])\n",
      "C:\\Users\\TEMP.CS2K16.001\\AppData\\Local\\Temp\\ipykernel_1456\\2475906166.py:2: UserWarning: Boolean Series key will be reindexed to match DataFrame index.\n",
      "  ageAbove30NoPrevInsWithPremiumAbove30500Prob = len(df[df['Age'] > 30][df['Previously_Insured'] == 0][df['Annual_Premium'] > 30500])/len(df[df['Age'] > 30][df['Previously_Insured'] == 0])\n",
      "C:\\Users\\TEMP.CS2K16.001\\AppData\\Local\\Temp\\ipykernel_1456\\2475906166.py:3: UserWarning: Boolean Series key will be reindexed to match DataFrame index.\n",
      "  ageBelow30PrevInsWithPremiumAbove30500Prob = len(df[df['Age'] < 30][df['Previously_Insured'] == 1][df['Annual_Premium'] > 30500])/len(df[df['Age'] < 30][df['Previously_Insured'] == 1])\n",
      "C:\\Users\\TEMP.CS2K16.001\\AppData\\Local\\Temp\\ipykernel_1456\\2475906166.py:3: UserWarning: Boolean Series key will be reindexed to match DataFrame index.\n",
      "  ageBelow30PrevInsWithPremiumAbove30500Prob = len(df[df['Age'] < 30][df['Previously_Insured'] == 1][df['Annual_Premium'] > 30500])/len(df[df['Age'] < 30][df['Previously_Insured'] == 1])\n",
      "C:\\Users\\TEMP.CS2K16.001\\AppData\\Local\\Temp\\ipykernel_1456\\2475906166.py:3: UserWarning: Boolean Series key will be reindexed to match DataFrame index.\n",
      "  ageBelow30PrevInsWithPremiumAbove30500Prob = len(df[df['Age'] < 30][df['Previously_Insured'] == 1][df['Annual_Premium'] > 30500])/len(df[df['Age'] < 30][df['Previously_Insured'] == 1])\n"
     ]
    },
    {
     "data": {
      "text/plain": [
       "(0.589107497393741, 0.5065978310916055)"
      ]
     },
     "execution_count": 20,
     "metadata": {},
     "output_type": "execute_result"
    }
   ],
   "source": [
    "# 2\n",
    "ageAbove30NoPrevInsWithPremiumAbove30500Prob = len(df[df['Age'] > 30][df['Previously_Insured'] == 0][df['Annual_Premium'] > 30500])/len(df[df['Age'] > 30][df['Previously_Insured'] == 0])\n",
    "ageBelow30PrevInsWithPremiumAbove30500Prob = len(df[df['Age'] < 30][df['Previously_Insured'] == 1][df['Annual_Premium'] > 30500])/len(df[df['Age'] < 30][df['Previously_Insured'] == 1])\n",
    "ageAbove30NoPrevInsWithPremiumAbove30500Prob, ageBelow30PrevInsWithPremiumAbove30500Prob"
   ]
  },
  {
   "cell_type": "markdown",
   "id": "4d4cddae",
   "metadata": {},
   "source": [
    "### Variable Correlation Analysis"
   ]
  },
  {
   "cell_type": "code",
   "execution_count": 21,
   "id": "74d4b595",
   "metadata": {},
   "outputs": [
    {
     "name": "stdout",
     "output_type": "stream",
     "text": [
      "0.06750700155669287\n"
     ]
    },
    {
     "data": {
      "text/plain": [
       "<matplotlib.collections.PathCollection at 0x268e9151c50>"
      ]
     },
     "execution_count": 21,
     "metadata": {},
     "output_type": "execute_result"
    },
    {
     "data": {
      "image/png": "[encoded data removed]",
      "text/plain": [
       "<Figure size 640x480 with 1 Axes>"
      ]
     },
     "metadata": {},
     "output_type": "display_data"
    }
   ],
   "source": [
    "# 1\n",
    "print(df['Age'].corr(df['Annual_Premium']))\n",
    "plt.scatter(df['Age'], df['Annual_Premium'])"
   ]
  },
  {
   "cell_type": "code",
   "execution_count": 22,
   "id": "16979bc8",
   "metadata": {},
   "outputs": [
    {
     "name": "stdout",
     "output_type": "stream",
     "text": [
      "0.02687233319314491\n"
     ]
    },
    {
     "data": {
      "text/plain": [
       "<matplotlib.collections.PathCollection at 0x268e97ef550>"
      ]
     },
     "execution_count": 22,
     "metadata": {},
     "output_type": "execute_result"
    },
    {
     "data": {
      "image/png": "[encoded data removed]",
      "text/plain": [
       "<Figure size 640x480 with 1 Axes>"
      ]
     },
     "metadata": {},
     "output_type": "display_data"
    }
   ],
   "source": [
    "# 2\n",
    "print(df['Age'][df['Previously_Insured'] == 1].corr(df['Annual_Premium']))\n",
    "plt.scatter(df['Age'][df['Previously_Insured'] == 1], df['Annual_Premium'][df['Previously_Insured'] == 1])"
   ]
  },
  {
   "cell_type": "markdown",
   "id": "4d844eda",
   "metadata": {},
   "source": [
    "### Hypothesis Testing"
   ]
  },
  {
   "cell_type": "code",
   "execution_count": 23,
   "id": "a9435942",
   "metadata": {},
   "outputs": [
    {
     "name": "stdout",
     "output_type": "stream",
     "text": [
      "Question 1: t-statistic: 2.6352941274023465, p-value: 0.9957966097249437\n",
      "Question 2: t-statistic: -7.3508514851527735, p-value: 9.866978896178617e-14\n"
     ]
    }
   ],
   "source": [
    "from scipy.stats import ttest_ind\n",
    "\n",
    "# Question 1\n",
    "insured = df[df['Previously_Insured'] == 1]['Annual_Premium']\n",
    "not_insured = df[df['Previously_Insured'] == 0]['Annual_Premium']\n",
    "\n",
    "t_statistic, p_value = ttest_ind(insured, not_insured, alternative='less')\n",
    "\n",
    "print(f\"Question 1: t-statistic: {t_statistic}, p-value: {p_value}\")\n",
    "\n",
    "# Question 2\n",
    "license = df[df['Driving_License'] == 1]['Annual_Premium']\n",
    "no_license = df[df['Driving_License'] == 0]['Annual_Premium']\n",
    "\n",
    "t_statistic, p_value = ttest_ind(license, no_license, alternative='less')\n",
    "\n",
    "print(f\"Question 2: t-statistic: {t_statistic}, p-value: {p_value}\")"
   ]
  },
  {
   "cell_type": "markdown",
   "id": "0d5f17da",
   "metadata": {},
   "source": [
    "**Question 1:** The p-value is approximately 0.996, which is greater than the typical significance level of 0.05. This means that we fail to reject the null hypothesis. In other words, the data does not provide strong evidence to conclude that the annual premium for those previously insured is greater than the annual premium for those not previously insured.\n",
    "\n",
    "**Question 2:** The p-value is approximately (9.87 \\times 10^{-14}), which is much smaller than the typical significance level of 0.05. This means that we reject the null hypothesis. In other words, the data provides strong evidence to conclude that the annual premium for those who have a driving license is greater than the annual premium for those who do not have a driving license."
   ]
  },
  {
   "cell_type": "code",
   "execution_count": null,
   "id": "22712da6",
   "metadata": {},
   "outputs": [],
   "source": []
  }
 ],
 "metadata": {
  "kernelspec": {
   "display_name": "Python 3 (ipykernel)",
   "language": "python",
   "name": "python3"
  },
  "language_info": {
   "codemirror_mode": {
    "name": "ipython",
    "version": 3
   },
   "file_extension": ".py",
   "mimetype": "text/x-python",
   "name": "python",
   "nbconvert_exporter": "python",
   "pygments_lexer": "ipython3",
   "version": "3.11.5"
  }
 },
 "nbformat": 4,
 "nbformat_minor": 5
}
