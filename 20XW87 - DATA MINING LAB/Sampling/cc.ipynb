{
 "cells": [
  {
   "cell_type": "code",
   "execution_count": 4,
   "metadata": {},
   "outputs": [],
   "source": [
    "import pandas as pd\n",
    "\n",
    "from sklearn.ensemble import RandomForestClassifier\n",
    "from sklearn.model_selection import train_test_split\n",
    "from sklearn.metrics import confusion_matrix, recall_score\n",
    "\n",
    "from imblearn.over_sampling import SMOTE\n",
    "from imblearn.under_sampling import NearMiss"
   ]
  },
  {
   "cell_type": "code",
   "execution_count": 5,
   "metadata": {},
   "outputs": [
    {
     "data": {
      "text/html": [
       "<div>\n",
       "<style scoped>\n",
       "    .dataframe tbody tr th:only-of-type {\n",
       "        vertical-align: middle;\n",
       "    }\n",
       "\n",
       "    .dataframe tbody tr th {\n",
       "        vertical-align: top;\n",
       "    }\n",
       "\n",
       "    .dataframe thead th {\n",
       "        text-align: right;\n",
       "    }\n",
       "</style>\n",
       "<table border=\"1\" class=\"dataframe\">\n",
       "  <thead>\n",
       "    <tr style=\"text-align: right;\">\n",
       "      <th></th>\n",
       "      <th>ncard</th>\n",
       "      <th>outst</th>\n",
       "      <th>limit</th>\n",
       "      <th>balance</th>\n",
       "      <th>tusage</th>\n",
       "      <th>tcash</th>\n",
       "      <th>tretail</th>\n",
       "      <th>unpaid</th>\n",
       "      <th>branch</th>\n",
       "      <th>payrat</th>\n",
       "      <th>...</th>\n",
       "      <th>usage3</th>\n",
       "      <th>payrat3</th>\n",
       "      <th>util6</th>\n",
       "      <th>usage6</th>\n",
       "      <th>payrat6</th>\n",
       "      <th>balpcard</th>\n",
       "      <th>unpaidplmt</th>\n",
       "      <th>tuseplmt</th>\n",
       "      <th>length</th>\n",
       "      <th>default</th>\n",
       "    </tr>\n",
       "    <tr>\n",
       "      <th>cust</th>\n",
       "      <th></th>\n",
       "      <th></th>\n",
       "      <th></th>\n",
       "      <th></th>\n",
       "      <th></th>\n",
       "      <th></th>\n",
       "      <th></th>\n",
       "      <th></th>\n",
       "      <th></th>\n",
       "      <th></th>\n",
       "      <th></th>\n",
       "      <th></th>\n",
       "      <th></th>\n",
       "      <th></th>\n",
       "      <th></th>\n",
       "      <th></th>\n",
       "      <th></th>\n",
       "      <th></th>\n",
       "      <th></th>\n",
       "      <th></th>\n",
       "      <th></th>\n",
       "    </tr>\n",
       "  </thead>\n",
       "  <tbody>\n",
       "    <tr>\n",
       "      <th>1</th>\n",
       "      <td>3</td>\n",
       "      <td>7691430</td>\n",
       "      <td>7000000</td>\n",
       "      <td>6463709</td>\n",
       "      <td>0</td>\n",
       "      <td>0</td>\n",
       "      <td>0</td>\n",
       "      <td>7398073</td>\n",
       "      <td>5</td>\n",
       "      <td>0.00</td>\n",
       "      <td>...</td>\n",
       "      <td>0.070000</td>\n",
       "      <td>13.04</td>\n",
       "      <td>0.930000</td>\n",
       "      <td>0.080000</td>\n",
       "      <td>26.66</td>\n",
       "      <td>2.466024e+06</td>\n",
       "      <td>1.060000</td>\n",
       "      <td>0.000000</td>\n",
       "      <td>1.000000</td>\n",
       "      <td>1</td>\n",
       "    </tr>\n",
       "    <tr>\n",
       "      <th>2</th>\n",
       "      <td>2</td>\n",
       "      <td>5309091</td>\n",
       "      <td>5000000</td>\n",
       "      <td>5309314</td>\n",
       "      <td>0</td>\n",
       "      <td>0</td>\n",
       "      <td>0</td>\n",
       "      <td>5310555</td>\n",
       "      <td>1</td>\n",
       "      <td>9.17</td>\n",
       "      <td>...</td>\n",
       "      <td>0.020000</td>\n",
       "      <td>7.43</td>\n",
       "      <td>0.960000</td>\n",
       "      <td>0.270000</td>\n",
       "      <td>14.26</td>\n",
       "      <td>2.655278e+06</td>\n",
       "      <td>1.060000</td>\n",
       "      <td>0.000000</td>\n",
       "      <td>2.830000</td>\n",
       "      <td>1</td>\n",
       "    </tr>\n",
       "    <tr>\n",
       "      <th>3</th>\n",
       "      <td>2</td>\n",
       "      <td>22533915</td>\n",
       "      <td>20000000</td>\n",
       "      <td>22419126</td>\n",
       "      <td>0</td>\n",
       "      <td>0</td>\n",
       "      <td>0</td>\n",
       "      <td>22442690</td>\n",
       "      <td>1</td>\n",
       "      <td>10.51</td>\n",
       "      <td>...</td>\n",
       "      <td>0.100000</td>\n",
       "      <td>7.49</td>\n",
       "      <td>1.130000</td>\n",
       "      <td>0.110000</td>\n",
       "      <td>12.20</td>\n",
       "      <td>1.122134e+07</td>\n",
       "      <td>1.120000</td>\n",
       "      <td>0.000000</td>\n",
       "      <td>0.920000</td>\n",
       "      <td>1</td>\n",
       "    </tr>\n",
       "    <tr>\n",
       "      <th>4</th>\n",
       "      <td>2</td>\n",
       "      <td>55083</td>\n",
       "      <td>8000000</td>\n",
       "      <td>23120</td>\n",
       "      <td>0</td>\n",
       "      <td>0</td>\n",
       "      <td>0</td>\n",
       "      <td>0</td>\n",
       "      <td>6</td>\n",
       "      <td>0.00</td>\n",
       "      <td>...</td>\n",
       "      <td>0.000000</td>\n",
       "      <td>0.00</td>\n",
       "      <td>0.020000</td>\n",
       "      <td>0.000000</td>\n",
       "      <td>0.00</td>\n",
       "      <td>0.000000e+00</td>\n",
       "      <td>0.000000</td>\n",
       "      <td>0.000000</td>\n",
       "      <td>0.750000</td>\n",
       "      <td>1</td>\n",
       "    </tr>\n",
       "    <tr>\n",
       "      <th>5</th>\n",
       "      <td>3</td>\n",
       "      <td>5747546</td>\n",
       "      <td>6000000</td>\n",
       "      <td>5754698</td>\n",
       "      <td>1300000</td>\n",
       "      <td>1300000</td>\n",
       "      <td>0</td>\n",
       "      <td>5757744</td>\n",
       "      <td>9</td>\n",
       "      <td>42.09</td>\n",
       "      <td>...</td>\n",
       "      <td>0.270000</td>\n",
       "      <td>75.02</td>\n",
       "      <td>0.550000</td>\n",
       "      <td>0.010000</td>\n",
       "      <td>99.94</td>\n",
       "      <td>1.919248e+06</td>\n",
       "      <td>0.960000</td>\n",
       "      <td>0.220000</td>\n",
       "      <td>11.830000</td>\n",
       "      <td>1</td>\n",
       "    </tr>\n",
       "    <tr>\n",
       "      <th>...</th>\n",
       "      <td>...</td>\n",
       "      <td>...</td>\n",
       "      <td>...</td>\n",
       "      <td>...</td>\n",
       "      <td>...</td>\n",
       "      <td>...</td>\n",
       "      <td>...</td>\n",
       "      <td>...</td>\n",
       "      <td>...</td>\n",
       "      <td>...</td>\n",
       "      <td>...</td>\n",
       "      <td>...</td>\n",
       "      <td>...</td>\n",
       "      <td>...</td>\n",
       "      <td>...</td>\n",
       "      <td>...</td>\n",
       "      <td>...</td>\n",
       "      <td>...</td>\n",
       "      <td>...</td>\n",
       "      <td>...</td>\n",
       "      <td>...</td>\n",
       "    </tr>\n",
       "    <tr>\n",
       "      <th>17703</th>\n",
       "      <td>2</td>\n",
       "      <td>41197</td>\n",
       "      <td>30000000</td>\n",
       "      <td>46050</td>\n",
       "      <td>0</td>\n",
       "      <td>0</td>\n",
       "      <td>0</td>\n",
       "      <td>0</td>\n",
       "      <td>1</td>\n",
       "      <td>49.13</td>\n",
       "      <td>...</td>\n",
       "      <td>0.000000</td>\n",
       "      <td>29.21</td>\n",
       "      <td>0.001052</td>\n",
       "      <td>0.000317</td>\n",
       "      <td>71.39</td>\n",
       "      <td>0.000000e+00</td>\n",
       "      <td>0.000000</td>\n",
       "      <td>0.000000</td>\n",
       "      <td>11.083333</td>\n",
       "      <td>0</td>\n",
       "    </tr>\n",
       "    <tr>\n",
       "      <th>17704</th>\n",
       "      <td>4</td>\n",
       "      <td>19886398</td>\n",
       "      <td>66000000</td>\n",
       "      <td>12028808</td>\n",
       "      <td>2250000</td>\n",
       "      <td>0</td>\n",
       "      <td>2250000</td>\n",
       "      <td>0</td>\n",
       "      <td>9</td>\n",
       "      <td>100.00</td>\n",
       "      <td>...</td>\n",
       "      <td>0.117773</td>\n",
       "      <td>100.34</td>\n",
       "      <td>0.184462</td>\n",
       "      <td>0.119284</td>\n",
       "      <td>100.15</td>\n",
       "      <td>0.000000e+00</td>\n",
       "      <td>0.000000</td>\n",
       "      <td>0.034091</td>\n",
       "      <td>9.166667</td>\n",
       "      <td>0</td>\n",
       "    </tr>\n",
       "    <tr>\n",
       "      <th>17705</th>\n",
       "      <td>2</td>\n",
       "      <td>72918</td>\n",
       "      <td>5000000</td>\n",
       "      <td>89245</td>\n",
       "      <td>0</td>\n",
       "      <td>0</td>\n",
       "      <td>0</td>\n",
       "      <td>0</td>\n",
       "      <td>5</td>\n",
       "      <td>0.00</td>\n",
       "      <td>...</td>\n",
       "      <td>0.005655</td>\n",
       "      <td>25.00</td>\n",
       "      <td>0.013833</td>\n",
       "      <td>0.006800</td>\n",
       "      <td>0.00</td>\n",
       "      <td>0.000000e+00</td>\n",
       "      <td>0.000000</td>\n",
       "      <td>0.000000</td>\n",
       "      <td>3.333333</td>\n",
       "      <td>0</td>\n",
       "    </tr>\n",
       "    <tr>\n",
       "      <th>17706</th>\n",
       "      <td>2</td>\n",
       "      <td>32174762</td>\n",
       "      <td>29000000</td>\n",
       "      <td>10059326</td>\n",
       "      <td>0</td>\n",
       "      <td>0</td>\n",
       "      <td>0</td>\n",
       "      <td>31624615</td>\n",
       "      <td>1</td>\n",
       "      <td>0.00</td>\n",
       "      <td>...</td>\n",
       "      <td>0.244776</td>\n",
       "      <td>50.03</td>\n",
       "      <td>1.149329</td>\n",
       "      <td>0.334362</td>\n",
       "      <td>22.26</td>\n",
       "      <td>1.581231e+07</td>\n",
       "      <td>1.090504</td>\n",
       "      <td>0.000000</td>\n",
       "      <td>12.583333</td>\n",
       "      <td>0</td>\n",
       "    </tr>\n",
       "    <tr>\n",
       "      <th>17707</th>\n",
       "      <td>3</td>\n",
       "      <td>29888472</td>\n",
       "      <td>40000000</td>\n",
       "      <td>27772979</td>\n",
       "      <td>59400</td>\n",
       "      <td>0</td>\n",
       "      <td>59400</td>\n",
       "      <td>29680972</td>\n",
       "      <td>1</td>\n",
       "      <td>0.00</td>\n",
       "      <td>...</td>\n",
       "      <td>0.147087</td>\n",
       "      <td>33.38</td>\n",
       "      <td>0.486165</td>\n",
       "      <td>0.497825</td>\n",
       "      <td>55.95</td>\n",
       "      <td>9.893657e+06</td>\n",
       "      <td>0.742024</td>\n",
       "      <td>0.001485</td>\n",
       "      <td>10.750000</td>\n",
       "      <td>0</td>\n",
       "    </tr>\n",
       "  </tbody>\n",
       "</table>\n",
       "<p>17707 rows × 22 columns</p>\n",
       "</div>"
      ],
      "text/plain": [
       "       ncard     outst     limit   balance   tusage    tcash  tretail  \\\n",
       "cust                                                                    \n",
       "1          3   7691430   7000000   6463709        0        0        0   \n",
       "2          2   5309091   5000000   5309314        0        0        0   \n",
       "3          2  22533915  20000000  22419126        0        0        0   \n",
       "4          2     55083   8000000     23120        0        0        0   \n",
       "5          3   5747546   6000000   5754698  1300000  1300000        0   \n",
       "...      ...       ...       ...       ...      ...      ...      ...   \n",
       "17703      2     41197  30000000     46050        0        0        0   \n",
       "17704      4  19886398  66000000  12028808  2250000        0  2250000   \n",
       "17705      2     72918   5000000     89245        0        0        0   \n",
       "17706      2  32174762  29000000  10059326        0        0        0   \n",
       "17707      3  29888472  40000000  27772979    59400        0    59400   \n",
       "\n",
       "         unpaid  branch  payrat  ...    usage3  payrat3     util6    usage6  \\\n",
       "cust                             ...                                          \n",
       "1       7398073       5    0.00  ...  0.070000    13.04  0.930000  0.080000   \n",
       "2       5310555       1    9.17  ...  0.020000     7.43  0.960000  0.270000   \n",
       "3      22442690       1   10.51  ...  0.100000     7.49  1.130000  0.110000   \n",
       "4             0       6    0.00  ...  0.000000     0.00  0.020000  0.000000   \n",
       "5       5757744       9   42.09  ...  0.270000    75.02  0.550000  0.010000   \n",
       "...         ...     ...     ...  ...       ...      ...       ...       ...   \n",
       "17703         0       1   49.13  ...  0.000000    29.21  0.001052  0.000317   \n",
       "17704         0       9  100.00  ...  0.117773   100.34  0.184462  0.119284   \n",
       "17705         0       5    0.00  ...  0.005655    25.00  0.013833  0.006800   \n",
       "17706  31624615       1    0.00  ...  0.244776    50.03  1.149329  0.334362   \n",
       "17707  29680972       1    0.00  ...  0.147087    33.38  0.486165  0.497825   \n",
       "\n",
       "       payrat6      balpcard  unpaidplmt  tuseplmt     length  default  \n",
       "cust                                                                    \n",
       "1        26.66  2.466024e+06    1.060000  0.000000   1.000000        1  \n",
       "2        14.26  2.655278e+06    1.060000  0.000000   2.830000        1  \n",
       "3        12.20  1.122134e+07    1.120000  0.000000   0.920000        1  \n",
       "4         0.00  0.000000e+00    0.000000  0.000000   0.750000        1  \n",
       "5        99.94  1.919248e+06    0.960000  0.220000  11.830000        1  \n",
       "...        ...           ...         ...       ...        ...      ...  \n",
       "17703    71.39  0.000000e+00    0.000000  0.000000  11.083333        0  \n",
       "17704   100.15  0.000000e+00    0.000000  0.034091   9.166667        0  \n",
       "17705     0.00  0.000000e+00    0.000000  0.000000   3.333333        0  \n",
       "17706    22.26  1.581231e+07    1.090504  0.000000  12.583333        0  \n",
       "17707    55.95  9.893657e+06    0.742024  0.001485  10.750000        0  \n",
       "\n",
       "[17707 rows x 22 columns]"
      ]
     },
     "execution_count": 5,
     "metadata": {},
     "output_type": "execute_result"
    }
   ],
   "source": [
    "df = pd.read_excel('cc_default.xlsx').drop(['Unnamed: 23', 'Unnamed: 24', 'Unnamed: 25'], axis=1).set_index('cust')\n",
    "df"
   ]
  },
  {
   "cell_type": "code",
   "execution_count": 6,
   "metadata": {},
   "outputs": [
    {
     "data": {
      "text/plain": [
       "default\n",
       "0    16143\n",
       "1     1564\n",
       "Name: count, dtype: int64"
      ]
     },
     "execution_count": 6,
     "metadata": {},
     "output_type": "execute_result"
    }
   ],
   "source": [
    "df.default.value_counts()"
   ]
  },
  {
   "cell_type": "code",
   "execution_count": 7,
   "metadata": {},
   "outputs": [
    {
     "data": {
      "text/plain": [
       "Index(['ncard', 'outst', 'limit', 'balance', 'tusage', 'tcash', 'tretail',\n",
       "       'unpaid', 'branch', 'payrat', 'percol', 'util3', 'usage3', 'payrat3',\n",
       "       'util6', 'usage6', 'payrat6', 'balpcard', 'unpaidplmt', 'tuseplmt',\n",
       "       'length', 'default'],\n",
       "      dtype='object')"
      ]
     },
     "execution_count": 7,
     "metadata": {},
     "output_type": "execute_result"
    }
   ],
   "source": [
    "df.columns"
   ]
  },
  {
   "cell_type": "code",
   "execution_count": 8,
   "metadata": {},
   "outputs": [],
   "source": [
    "X, y = df.drop('default', axis=1), df['default']\n",
    "X_train, X_test, y_train, y_test = train_test_split(X, y, test_size=0.2, random_state=42)"
   ]
  },
  {
   "cell_type": "code",
   "execution_count": 9,
   "metadata": {},
   "outputs": [
    {
     "data": {
      "text/plain": [
       "array([[3212,   25],\n",
       "       [ 289,   16]])"
      ]
     },
     "execution_count": 9,
     "metadata": {},
     "output_type": "execute_result"
    }
   ],
   "source": [
    "rf = RandomForestClassifier(random_state=42)\n",
    "rf.fit(X_train, y_train)\n",
    "y_pred = rf.predict(X_test)\n",
    "\n",
    "confusion_matrix(y_test, y_pred)"
   ]
  },
  {
   "cell_type": "code",
   "execution_count": 10,
   "metadata": {},
   "outputs": [
    {
     "data": {
      "text/plain": [
       "0.05245901639344262"
      ]
     },
     "execution_count": 10,
     "metadata": {},
     "output_type": "execute_result"
    }
   ],
   "source": [
    "recall_score(y_test, y_pred)"
   ]
  },
  {
   "cell_type": "markdown",
   "metadata": {},
   "source": [
    "# Oversampling with the SMOTE"
   ]
  },
  {
   "cell_type": "code",
   "execution_count": 11,
   "metadata": {},
   "outputs": [
    {
     "name": "stdout",
     "output_type": "stream",
     "text": [
      "default\n",
      "1    16143\n",
      "0    16143\n",
      "Name: count, dtype: int64\n"
     ]
    }
   ],
   "source": [
    "sm = SMOTE(random_state=42, k_neighbors=5)\n",
    "X_res, y_res = sm.fit_resample(X, y)\n",
    "print(y_res.value_counts())\n",
    "X_train, X_test, y_train, y_test = train_test_split(X_res, y_res, test_size=0.2, random_state=42)"
   ]
  },
  {
   "cell_type": "code",
   "execution_count": 13,
   "metadata": {},
   "outputs": [
    {
     "data": {
      "text/plain": [
       "array([[2966,  289],\n",
       "       [ 172, 3031]])"
      ]
     },
     "execution_count": 13,
     "metadata": {},
     "output_type": "execute_result"
    }
   ],
   "source": [
    "rf = RandomForestClassifier(random_state=42)\n",
    "rf.fit(X_train, y_train)\n",
    "y_pred = rf.predict(X_test)\n",
    "\n",
    "confusion_matrix(y_test, y_pred)"
   ]
  },
  {
   "cell_type": "code",
   "execution_count": 14,
   "metadata": {},
   "outputs": [
    {
     "data": {
      "text/plain": [
       "0.9463003434280363"
      ]
     },
     "execution_count": 14,
     "metadata": {},
     "output_type": "execute_result"
    }
   ],
   "source": [
    "recall_score(y_test, y_pred)"
   ]
  },
  {
   "cell_type": "code",
   "execution_count": 15,
   "metadata": {},
   "outputs": [
    {
     "data": {
      "text/plain": [
       "18.03885029659694"
      ]
     },
     "execution_count": 15,
     "metadata": {},
     "output_type": "execute_result"
    }
   ],
   "source": [
    "0.9463003434280363 / 0.05245901639344262"
   ]
  },
  {
   "cell_type": "markdown",
   "metadata": {},
   "source": [
    "That's an 18x on the recall score for Oversampling using SMOTE."
   ]
  },
  {
   "cell_type": "markdown",
   "metadata": {},
   "source": [
    "# Undersamping with NearMiss algorithm"
   ]
  },
  {
   "cell_type": "code",
   "execution_count": 16,
   "metadata": {},
   "outputs": [
    {
     "name": "stdout",
     "output_type": "stream",
     "text": [
      "default\n",
      "0    1564\n",
      "1    1564\n",
      "Name: count, dtype: int64\n"
     ]
    }
   ],
   "source": [
    "nm = NearMiss()\n",
    "X_res, y_res = nm.fit_resample(X, y)\n",
    "print(y_res.value_counts())\n",
    "X_train, X_test, y_train, y_test = train_test_split(X_res, y_res, test_size=0.2, random_state=42)"
   ]
  },
  {
   "cell_type": "code",
   "execution_count": 17,
   "metadata": {},
   "outputs": [
    {
     "data": {
      "text/plain": [
       "array([[288,  33],\n",
       "       [ 65, 240]])"
      ]
     },
     "execution_count": 17,
     "metadata": {},
     "output_type": "execute_result"
    }
   ],
   "source": [
    "rf = RandomForestClassifier(random_state=42)\n",
    "rf.fit(X_train, y_train)\n",
    "y_pred = rf.predict(X_test)\n",
    "\n",
    "confusion_matrix(y_test, y_pred)"
   ]
  },
  {
   "cell_type": "code",
   "execution_count": 18,
   "metadata": {},
   "outputs": [
    {
     "data": {
      "text/plain": [
       "0.7868852459016393"
      ]
     },
     "execution_count": 18,
     "metadata": {},
     "output_type": "execute_result"
    }
   ],
   "source": [
    "recall_score(y_test, y_pred)"
   ]
  },
  {
   "cell_type": "code",
   "execution_count": 19,
   "metadata": {},
   "outputs": [
    {
     "data": {
      "text/plain": [
       "15.0"
      ]
     },
     "execution_count": 19,
     "metadata": {},
     "output_type": "execute_result"
    }
   ],
   "source": [
    "0.7868852459016393 / 0.05245901639344262"
   ]
  },
  {
   "cell_type": "markdown",
   "metadata": {},
   "source": [
    "And a 15x on the recall score for Undersampling using NearMiss."
   ]
  }
 ],
 "metadata": {
  "kernelspec": {
   "display_name": "venv",
   "language": "python",
   "name": "python3"
  },
  "language_info": {
   "codemirror_mode": {
    "name": "ipython",
    "version": 3
   },
   "file_extension": ".py",
   "mimetype": "text/x-python",
   "name": "python",
   "nbconvert_exporter": "python",
   "pygments_lexer": "ipython3",
   "version": "3.10.12"
  }
 },
 "nbformat": 4,
 "nbformat_minor": 2
}
