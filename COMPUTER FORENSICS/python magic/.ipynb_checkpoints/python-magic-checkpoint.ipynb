{
 "cells": [
  {
   "cell_type": "code",
   "execution_count": 1,
   "id": "313582a2",
   "metadata": {},
   "outputs": [
    {
     "name": "stdout",
     "output_type": "stream",
     "text": [
      "Defaulting to user installation because normal site-packages is not writeable\n",
      "Requirement already satisfied: python-magic-bin in c:\\users\\temp.cs2k16.002\\appdata\\roaming\\python\\python310\\site-packages (0.4.14)\n",
      "Defaulting to user installation because normal site-packages is not writeable\n",
      "Requirement already satisfied: python-magic in c:\\users\\temp.cs2k16.002\\appdata\\roaming\\python\\python310\\site-packages (0.4.27)\n"
     ]
    }
   ],
   "source": [
    "!pip install python-magic-bin\n",
    "!pip install python-magic"
   ]
  },
  {
   "cell_type": "code",
   "execution_count": 2,
   "id": "f3ae6987",
   "metadata": {},
   "outputs": [
    {
     "name": "stdout",
     "output_type": "stream",
     "text": [
      "apngfile.png === PNG image data, 850 x 566, 8-bit/color RGB, non-interlaced\n",
      "apngfilemodifiedintoajpg.jpg === PNG image data, 850 x 566, 8-bit/color RGB, non-interlaced\n"
     ]
    }
   ],
   "source": [
    "import magic\n",
    "\n",
    "print('apngfile.png ===', magic.from_file('apngfile.png'))\n",
    "print('apngfilemodifiedintoajpg.jpg ===', magic.from_file('apngfilemodifiedintoajpg.jpg'))"
   ]
  },
  {
   "cell_type": "markdown",
   "id": "dc5b9569",
   "metadata": {},
   "source": [
    "### Inference\n",
    "\n",
    "Both the files are PNG image data although one of the images is a renamed version and changed the extension of the original. It is apparent when looked at using python-magic. "
   ]
  }
 ],
 "metadata": {
  "kernelspec": {
   "display_name": "Python 3 (ipykernel)",
   "language": "python",
   "name": "python3"
  },
  "language_info": {
   "codemirror_mode": {
    "name": "ipython",
    "version": 3
   },
   "file_extension": ".py",
   "mimetype": "text/x-python",
   "name": "python",
   "nbconvert_exporter": "python",
   "pygments_lexer": "ipython3",
   "version": "3.10.9"
  }
 },
 "nbformat": 4,
 "nbformat_minor": 5
}
